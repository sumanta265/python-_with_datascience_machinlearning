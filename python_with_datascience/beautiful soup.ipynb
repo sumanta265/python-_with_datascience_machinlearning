{
 "cells": [
  {
   "cell_type": "code",
   "execution_count": 26,
   "metadata": {},
   "outputs": [],
   "source": [
    "import requests\n",
    "import bs4\n",
    "res = requests.get('https://www.amazon.in/s?k=elitmus&hvadid=72224247005523&hvbmt=bp&hvdev=c&hvqmt=p&tag=msndeskstdin-21&ref=pd_sl_5p6jsj3xvn_p')"
   ]
  },
  {
   "cell_type": "code",
   "execution_count": 27,
   "metadata": {},
   "outputs": [
    {
     "data": {
      "text/plain": [
       "requests.models.Response"
      ]
     },
     "execution_count": 27,
     "metadata": {},
     "output_type": "execute_result"
    }
   ],
   "source": [
    "type(res)"
   ]
  },
  {
   "cell_type": "code",
   "execution_count": 28,
   "metadata": {},
   "outputs": [
    {
     "data": {
      "text/plain": [
       "'<!DOCTYPE html>\\n<!--[if lt IE 7]> <html lang=\"en-us\" class=\"a-no-js a-lt-ie9 a-lt-ie8 a-lt-ie7\"> <![endif]-->\\n<!--[if IE 7]>    <html lang=\"en-us\" class=\"a-no-js a-lt-ie9 a-lt-ie8\"> <![endif]-->\\n<!--[if IE 8]>    <html lang=\"en-us\" class=\"a-no-js a-lt-ie9\"> <![endif]-->\\n<!--[if gt IE 8]><!-->\\n<html class=\"a-no-js\" lang=\"en-us\"><!--<![endif]--><head>\\n<meta http-equiv=\"content-type\" content=\"text/html; charset=UTF-8\">\\n<meta charset=\"utf-8\">\\n<meta http-equiv=\"X-UA-Compatible\" content=\"IE=edge,chrome=1\">\\n<title dir=\"ltr\">Robot Check</title>\\n<meta name=\"viewport\" content=\"width=device-width\">\\n<link rel=\"stylesheet\" href=\"https://images-na.ssl-images-amazon.com/images/G/01/AUIClients/AmazonUI-3c913031596ca78a3768f4e934b1cc02ce238101.secure.min._V1_.css\">\\n<script>\\n\\nif (true === true) {\\n    var ue_t0 = (+ new Date()),\\n        ue_csm = window,\\n        ue = { t0: ue_t0, d: function() { return (+new Date() - ue_t0); } },\\n        ue_furl = \"fls-eu.amazon.in\",\\n        ue_mid = \"A21TJRUUN4KGV\",\\n        ue_sid = (document.cookie.match(/session-id=([0-9-]+)/) || [])[1],\\n        ue_sn = \"opfcaptcha.amazon.in\",\\n        ue_id = \\'DRJWJBXK205D9DEBRY9F\\';\\n}\\n</script>\\n</head>\\n<body>\\n\\n<!--\\n        To discuss automated access to Amazon data please contact api-services-support@amazon.com.\\n        For information about migrating to our APIs refer to our Marketplace APIs at https://developer.amazonservices.in/ref=rm_c_sv, or our Product Advertising API at https://affiliate-program.amazon.in/gp/advertising/api/detail/main.html/ref=rm_c_ac for advertising use cases.\\n-->\\n\\n<!--\\nCorreios.DoNotSend\\n-->\\n\\n<div class=\"a-container a-padding-double-large\" style=\"min-width:350px;padding:44px 0 !important\">\\n\\n    <div class=\"a-row a-spacing-double-large\" style=\"width: 350px; margin: 0 auto\">\\n\\n        <div class=\"a-row a-spacing-medium a-text-center\"><i class=\"a-icon a-logo\"></i></div>\\n\\n        <div class=\"a-box a-alert a-alert-info a-spacing-base\">\\n            <div class=\"a-box-inner\">\\n                <i class=\"a-icon a-icon-alert\"></i>\\n                <h4>Enter the characters you see below</h4>\\n                <p class=\"a-last\">Sorry, we just need to make sure you\\'re not a robot. For best results, please make sure your browser is accepting cookies.</p>\\n                </div>\\n            </div>\\n\\n            <div class=\"a-section\">\\n\\n                <div class=\"a-box a-color-offset-background\">\\n                    <div class=\"a-box-inner a-padding-extra-large\">\\n\\n                        <form method=\"get\" action=\"/errors/validateCaptcha\" name=\"\">\\n                            <input type=hidden name=\"amzn\" value=\"Okhy1odi0IrPtVkNAKnckg==\" /><input type=hidden name=\"amzn-r\" value=\"&#047;s?k&#061;elitmus&amp;hvadid&#061;72224247005523&amp;hvbmt&#061;bp&amp;hvdev&#061;c&amp;hvqmt&#061;p&amp;tag&#061;msndeskstdin&#045;21&amp;ref&#061;pd_sl_5p6jsj3xvn_p\" />\\n                            <div class=\"a-row a-spacing-large\">\\n                                <div class=\"a-box\">\\n                                    <div class=\"a-box-inner\">\\n                                        <h4>Type the characters you see in this image:</h4>\\n                                        <!-- For automated access to price change or offer listing change events,\\n                                             please refer to the MWS Subscription API:\\n                                             https://developer.amazonservices.in/gp/mws/api.html/276-5247872-0590350?ie=UTF8&section=subscriptions&group=subscriptions&version=latest\\n                                        -->\\n                                        <div class=\"a-row a-text-center\">\\n                                            <img src=\"https://images-na.ssl-images-amazon.com/captcha/bysppkyq/Captcha_tlidlvrjzt.jpg\">\\n                                        </div>\\n                                        <div class=\"a-row a-spacing-base\">\\n                                            <div class=\"a-row\">\\n                                                <div class=\"a-column a-span6\">\\n                                                </div>\\n                                                <div class=\"a-column a-span6 a-span-last a-text-right\">\\n                                                    <a onclick=\"window.location.reload()\">Try different image</a>\\n                                                </div>\\n                                            </div>\\n                                            <input autocomplete=\"off\" spellcheck=\"false\" placeholder=\"Type characters\" id=\"captchacharacters\" name=\"field-keywords\" class=\"a-span12\" autocapitalize=\"off\" autocorrect=\"off\" type=\"text\">\\n                                        </div>\\n                                    </div>\\n                                </div>\\n                            </div>\\n\\n                            <div class=\"a-section a-spacing-extra-large\">\\n\\n                                <div class=\"a-row\">\\n                                    <span class=\"a-button a-button-primary a-span12\">\\n                                        <span class=\"a-button-inner\">\\n                                            <button type=\"submit\" class=\"a-button-text\">Continue shopping</button>\\n                                        </span>\\n                                    </span>\\n                                </div>\\n\\n                            </div>\\n                        </form>\\n\\n                    </div>\\n                </div>\\n\\n            </div>\\n\\n        </div>\\n\\n        <div class=\"a-divider a-divider-section\"><div class=\"a-divider-inner\"></div></div>\\n\\n        <div class=\"a-text-center a-spacing-small a-size-mini\">\\n            <a href=\"https://www.amazon.in/gp/help/customer/display.html/ref=footer_cou?ie=UTF8&nodeId=200545940\">Conditions of Use &amp; Sale</a>\\n            <span class=\"a-letter-space\"></span>\\n            <span class=\"a-letter-space\"></span>\\n            <span class=\"a-letter-space\"></span>\\n            <span class=\"a-letter-space\"></span>\\n            <a href=\"https://www.amazon.in/gp/help/customer/display.html/ref=footer_privacy?ie=UTF8&nodeId=200534380\">Privacy Notice</a>\\n        </div>\\n\\n        <div class=\"a-text-center a-size-mini a-color-secondary\">\\n          &copy; 1996-2015, Amazon.com, Inc. or its affiliates\\n          <script>\\n           if (true === true) {\\n             document.write(\\'<img src=\"https://fls-eu.amaz\\'+\\'on.in/\\'+\\'1/oc-csi/1/OP/requestId=DRJWJBXK205D9DEBRY9F&js=1\" />\\');\\n           };\\n          </script>\\n          <noscript>\\n            <img src=\"https://fls-eu.amazon.in/1/oc-csi/1/OP/requestId=DRJWJBXK205D9DEBRY9F&js=0\" />\\n          </noscript>\\n        </div>\\n    </div>\\n    <script>\\n    if (true === true) {\\n        var elem = document.createElement(\"script\");\\n        elem.src = \"https://images-eu.ssl-images-amazon.com/images/G/01/csminstrumentation/csm-captcha-instrumentation.min._V\" + (+ new Date()) + \"_.js\";\\n        document.getElementsByTagName(\\'head\\')[0].appendChild(elem);\\n    }\\n    </script>\\n</body></html>\\n'"
      ]
     },
     "execution_count": 28,
     "metadata": {},
     "output_type": "execute_result"
    }
   ],
   "source": [
    "res.text"
   ]
  },
  {
   "cell_type": "code",
   "execution_count": 29,
   "metadata": {},
   "outputs": [],
   "source": [
    "soup = bs4.BeautifulSoup(res.text,'lxml')"
   ]
  },
  {
   "cell_type": "code",
   "execution_count": 30,
   "metadata": {},
   "outputs": [
    {
     "data": {
      "text/plain": [
       "bs4.BeautifulSoup"
      ]
     },
     "execution_count": 30,
     "metadata": {},
     "output_type": "execute_result"
    }
   ],
   "source": [
    "type(soup)"
   ]
  },
  {
   "cell_type": "code",
   "execution_count": 31,
   "metadata": {},
   "outputs": [],
   "source": [
    "hi = soup.select('title')"
   ]
  },
  {
   "cell_type": "code",
   "execution_count": 32,
   "metadata": {},
   "outputs": [
    {
     "data": {
      "text/plain": [
       "[<title dir=\"ltr\">Robot Check</title>]"
      ]
     },
     "execution_count": 32,
     "metadata": {},
     "output_type": "execute_result"
    }
   ],
   "source": [
    "hi"
   ]
  },
  {
   "cell_type": "code",
   "execution_count": 17,
   "metadata": {},
   "outputs": [
    {
     "data": {
      "text/plain": [
       "'Online Shopping site in India: Shop Online for Mobiles, Books, Watches, Shoes and More - Amazon.in'"
      ]
     },
     "execution_count": 17,
     "metadata": {},
     "output_type": "execute_result"
    }
   ],
   "source": [
    "hi[0].getText()"
   ]
  },
  {
   "cell_type": "code",
   "execution_count": 33,
   "metadata": {},
   "outputs": [],
   "source": [
    "hi = soup.select('a')"
   ]
  },
  {
   "cell_type": "code",
   "execution_count": 19,
   "metadata": {},
   "outputs": [
    {
     "data": {
      "text/plain": [
       "[<a id=\"nav-top\"></a>,\n",
       " <a class=\"skip-link\" id=\"skiplink\" tabindex=\"3\">Skip to main content</a>,\n",
       " <a aria-label=\"Open Menu\" href=\"/gp/site-directory?ref_=nav_em_js_disabled\" id=\"nav-hamburger-menu\" role=\"button\" tabindex=\"5\">\n",
       " <i class=\"hm-icon nav-sprite\"></i>\n",
       " </a>,\n",
       " <a aria-label=\"Amazon\" class=\"nav-logo-link\" href=\"/ref=nav_logo\" tabindex=\"6\">\n",
       " <span class=\"nav-sprite nav-logo-base\"></span>\n",
       " <span class=\"nav-sprite nav-logo-ext\"></span>\n",
       " <span class=\"nav-sprite nav-logo-locale\"></span>\n",
       " </a>,\n",
       " <a aria-label=\"\" class=\"nav-sprite nav-logo-tagline nav-prime-try\" href=\"/prime?ref_=nav_logo_prime_join\" tabindex=\"7\">\n",
       "     Try Prime\n",
       "   </a>,\n",
       " <a class=\"nav-a nav-a-2 icp-link-style-2\" href=\"/gp/customer-preferences/select-language/ref=topnav_lang_c?preferencesReturnUrl=%2F\" id=\"icp-nav-flyout\">\n",
       " <span class=\"icp-nav-link-inner\">\n",
       " <span class=\"nav-line-1\">\n",
       " <span class=\"icp-nav-globe-img-2\"></span>\n",
       " <span class=\"icp-nav-language\">EN</span>\n",
       " </span>\n",
       " <span class=\"nav-line-2\"> \n",
       "         <span class=\"nav-icon nav-arrow\"></span>\n",
       " </span>\n",
       " </span>\n",
       " </a>,\n",
       " <a class=\"nav-a nav-a-2\" data-nav-ref=\"nav_ya_signin\" data-nav-role=\"signin\" data-ux-jq-mouseenter=\"true\" href=\"https://www.amazon.in/ap/signin?openid.pape.max_auth_age=0&amp;openid.return_to=https%3A%2F%2Fwww.amazon.in%2F%3Fref_%3Dnav_ya_signin%26_encoding%3DUTF8&amp;openid.identity=http%3A%2F%2Fspecs.openid.net%2Fauth%2F2.0%2Fidentifier_select&amp;openid.assoc_handle=inflex&amp;openid.mode=checkid_setup&amp;openid.claimed_id=http%3A%2F%2Fspecs.openid.net%2Fauth%2F2.0%2Fidentifier_select&amp;openid.ns=http%3A%2F%2Fspecs.openid.net%2Fauth%2F2.0&amp;\" id=\"nav-link-accountList\" tabindex=\"12\">\n",
       " <span class=\"nav-line-1\">Hello. Sign in</span>\n",
       " <span class=\"nav-line-2\">Account &amp; Lists<span class=\"nav-icon nav-arrow\"></span>\n",
       " </span>\n",
       " <span class=\"nav-line-3\">Sign in</span>\n",
       " <span class=\"nav-line-4\">Account &amp; Lists</span>\n",
       " </a>,\n",
       " <a class=\"nav-a nav-a-2 nav-single-row-link\" href=\"/gp/css/order-history?ref_=nav_orders_first\" id=\"nav-orders\" tabindex=\"14\">\n",
       " <span class=\"nav-line-1\"></span>\n",
       " <span class=\"nav-line-2\">Orders</span>\n",
       " </a>,\n",
       " <a class=\"nav-a nav-a-2\" data-ux-jq-mouseenter=\"true\" href=\"/prime?ref_=nav_prime_try_btn\" id=\"nav-link-prime\" tabindex=\"15\">\n",
       " <span class=\"nav-line-1\">Try</span>\n",
       " <span class=\"nav-line-2\">Prime<span class=\"nav-icon nav-arrow\"></span>\n",
       " </span>\n",
       " </a>,\n",
       " <a aria-label=\" items in cart\" class=\"nav-a nav-a-2\" href=\"https://www.amazon.in/gp/cart/view.html?ref_=nav_cart\" id=\"nav-cart\" tabindex=\"17\">\n",
       " <span aria-hidden=\"true\" class=\"nav-line-1\"> </span>\n",
       " <span aria-hidden=\"true\" class=\"nav-line-2\">Cart<span class=\"nav-icon nav-arrow\"></span>\n",
       " </span>\n",
       " <span class=\"nav-cart-icon nav-sprite\"></span>\n",
       " <span aria-hidden=\"true\" class=\"nav-cart-count nav-cart-0\" id=\"nav-cart-count\"></span>\n",
       " </a>,\n",
       " <a class=\"nav-a nav-a-2 a-popover-trigger a-declarative\" tabindex=\"9\">\n",
       " <div class=\"nav-sprite\" id=\"nav-packard-glow-loc-icon\"></div>\n",
       " <div id=\"glow-ingress-block\">\n",
       " <span class=\"nav-line-1\" id=\"glow-ingress-line1\">\n",
       "                    Hello\n",
       "                 </span>\n",
       " <span class=\"nav-line-2\" id=\"glow-ingress-line2\">\n",
       "                    Select your address\n",
       "                 </span>\n",
       " </div>\n",
       " </a>,\n",
       " <a class=\"nav-a\" href=\"/gp/bestsellers/?ref_=nav_cs_bestsellers\" tabindex=\"26\">Best Sellers</a>,\n",
       " <a class=\"nav-a\" href=\"/gp/most-gifted/?ref_=nav_cs_giftideas\" tabindex=\"27\">Gift Ideas\t</a>,\n",
       " <a class=\"nav-a\" href=\"/gp/new-releases/ref=zg_bs_tab/?ref_=nav_cs_newreleases\" tabindex=\"28\">New Releases</a>,\n",
       " <a class=\"nav-a\" href=\"/gp/goldbox?ref_=nav_topnav_deals\" tabindex=\"29\">Today's Deals</a>,\n",
       " <a class=\"nav-a\" href=\"/amazon-coupons/b/?_encoding=UTF8&amp;node=10465704031&amp;ref_=nav_cs_coupons\" tabindex=\"30\">Coupons</a>,\n",
       " <a class=\"nav-a\" href=\"/b/?node=6637738031&amp;ref_=nav_cs_amazonbasics\" tabindex=\"31\">AmazonBasics</a>,\n",
       " <a class=\"nav-a\" href=\"/gp/sva/dashboard?ref_=nav_apay\" tabindex=\"32\">Amazon Pay</a>,\n",
       " <a class=\"nav-a\" href=\"/gp/help/customer/display.html?nodeId=200507590&amp;ref_=nav_cs_customerservice\" tabindex=\"33\">Customer Service</a>,\n",
       " <a class=\"nav-a\" href=\"/b/?node=2838698031&amp;ld=AZINSOANavDesktop&amp;ref_=nav_cs_sell\" tabindex=\"34\">Sell</a>,\n",
       " <a id=\"skippedLink\" tabindex=\"-1\"></a>,\n",
       " <a name=\"top\"></a>,\n",
       " <a class=\"a-carousel-goto-prevpage\" href=\"#\" tabindex=\"0\"><i class=\"a-icon a-icon-previous-rounded\"><span class=\"a-icon-alt\">Previous page</span></i></a>,\n",
       " <a class=\"a-link-normal aok-inline-block\" href=\"/b?node=5731634031&amp;pf_rd_p=bb00a50b-b8b1-413d-9909-c3bc99ba38f6&amp;pf_rd_r=YFTW7BR3QVEWMS79P88J\"><img alt=\"Great Indian Sale\" data-a-hires=\"https://images-eu.ssl-images-amazon.com/images/G/31/img20/Events/JanART/GW/Teaser/teaser_desk_hero_rec_2x._CB426091019_.jpg\" height=\"600px\" src=\"https://images-eu.ssl-images-amazon.com/images/G/31/img20/Events/JanART/GW/Teaser/teaser_desk_hero_rec_1x._CB426091019_.jpg\" width=\"1500px\"/></a>,\n",
       " <a class=\"a-carousel-goto-nextpage\" href=\"#\" tabindex=\"0\"><i class=\"a-icon a-icon-next-rounded\"><span class=\"a-icon-alt\">Next page</span></i></a>,\n",
       " <a aria-label=\"Vivo U10\" class=\"a-link-normal image-redirect aok-block image-window\" href=\"/dp/B07DJD1RTM?pf_rd_p=fa25496c-7d42-4f20-a958-cce32020b23e&amp;pf_rd_r=YFTW7BR3QVEWMS79P88J\"><div class=\"a-section a-spacing-none fluid-image-container\"><img alt=\"Vivo U10\" class=\"landscape-image\" data-a-hires=\"https://images-eu.ssl-images-amazon.com/images/G/31/img19/Wireless/MSO_november/TripleCamera/1x_3._SY232_CB447184126_.jpg\" src=\"https://images-eu.ssl-images-amazon.com/images/G/31/img19/Wireless/MSO_november/TripleCamera/2x_3._SY116_CB447184121_.jpg\"/></div><div class=\"a-section a-spacing-none image-label truncate-2line\"><span class=\"a-size-small a-color-base aok-align-center aok-inline-block\">Vivo U10</span></div></a>,\n",
       " <a aria-label=\"Galaxy M30s\" class=\"a-link-normal image-redirect aok-block image-window\" href=\"/dp/B07HGMQX6N?pf_rd_p=fa25496c-7d42-4f20-a958-cce32020b23e&amp;pf_rd_r=YFTW7BR3QVEWMS79P88J\"><div class=\"a-section a-spacing-none fluid-image-container\"><img alt=\"Galaxy M30s\" class=\"landscape-image\" data-a-hires=\"https://images-eu.ssl-images-amazon.com/images/G/31/img19/Wireless/MSO_november/TripleCamera/1x_1._SY232_CB447184126_.jpg\" src=\"https://images-eu.ssl-images-amazon.com/images/G/31/img19/Wireless/MSO_november/TripleCamera/2x_1._SY116_CB447184121_.jpg\"/></div><div class=\"a-section a-spacing-none image-label truncate-2line\"><span class=\"a-size-small a-color-base aok-align-center aok-inline-block\">Galaxy M30s</span></div></a>,\n",
       " <a aria-label=\"OnePlus 7T\" class=\"a-link-normal image-redirect aok-block image-window\" href=\"/dp/B07DJHXTLJ?pf_rd_p=fa25496c-7d42-4f20-a958-cce32020b23e&amp;pf_rd_r=YFTW7BR3QVEWMS79P88J\"><div class=\"a-section a-spacing-none fluid-image-container\"><img alt=\"OnePlus 7T\" class=\"landscape-image\" data-a-hires=\"https://images-eu.ssl-images-amazon.com/images/G/31/img19/Wireless/MSO_november/TripleCamera/1x_2._SY232_CB447184121_.jpg\" src=\"https://images-eu.ssl-images-amazon.com/images/G/31/img19/Wireless/MSO_november/TripleCamera/2x_2._SY116_CB447184121_.jpg\"/></div><div class=\"a-section a-spacing-none image-label truncate-2line\"><span class=\"a-size-small a-color-base aok-align-center aok-inline-block\">OnePlus 7T</span></div></a>,\n",
       " <a aria-label=\"OnePlus 7T Pro\" class=\"a-link-normal image-redirect aok-block image-window\" href=\"/dp/B07DJ8K2KT?pf_rd_p=fa25496c-7d42-4f20-a958-cce32020b23e&amp;pf_rd_r=YFTW7BR3QVEWMS79P88J\"><div class=\"a-section a-spacing-none fluid-image-container\"><img alt=\"OnePlus 7T Pro\" class=\"landscape-image\" data-a-hires=\"https://images-eu.ssl-images-amazon.com/images/G/31/img19/Wireless/MSO_november/TripleCamera/1x_4._SY232_CB447184121_.jpg\" src=\"https://images-eu.ssl-images-amazon.com/images/G/31/img19/Wireless/MSO_november/TripleCamera/1x_4._SY116_CB447184121_.jpg\"/></div><div class=\"a-section a-spacing-none image-label truncate-2line\"><span class=\"a-size-small a-color-base aok-align-center aok-inline-block\">OnePlus 7T Pro</span></div></a>,\n",
       " <a aria-label=\"Triple camera smartphones | Starting ₹8,990 - See more\" class=\"a-link-normal see-more truncate-1line\" href=\"/b?node=16382860031&amp;pf_rd_p=fa25496c-7d42-4f20-a958-cce32020b23e&amp;pf_rd_r=YFTW7BR3QVEWMS79P88J\">See more</a>,\n",
       " <a aria-label=\"Mobile recharges\" class=\"a-link-normal image-redirect aok-block image-window\" href=\"/gp/redirect.html?_encoding=UTF8&amp;location=https%3A%2F%2Fwww.amazon.in%2Fhfc%2FmobileRecharge%3Fref_%3Dapay_pc_qc_rech&amp;source=standards&amp;token=D1D2CBFC3349A04F8D57694B881D1BB4E3FA3F7C&amp;pf_rd_p=c2d54cdf-18ab-43c1-8521-03b02d93146f&amp;pf_rd_r=YFTW7BR3QVEWMS79P88J\" rel=\"noopener\" target=\"_blank\"><div class=\"a-section a-spacing-none fluid-image-container\"><img alt=\"Mobile recharges\" class=\"landscape-image\" data-a-hires=\"https://images-eu.ssl-images-amazon.com/images/G/31/img17/AmazonPay/Ankit/gw/desktopcard/recharge_372_232._SY232_CB448565141_.jpg\" src=\"https://images-eu.ssl-images-amazon.com/images/G/31/img17/AmazonPay/Ankit/gw/desktopcard/recharge_186_116._SY116_CB448565141_.jpg\"/></div><div class=\"a-section a-spacing-none image-label truncate-2line\"><span class=\"a-size-small a-color-base aok-align-center aok-inline-block\">Mobile recharges</span></div></a>,\n",
       " <a aria-label=\"Bills\" class=\"a-link-normal image-redirect aok-block image-window\" href=\"/b?node=15246428031&amp;pf_rd_p=c2d54cdf-18ab-43c1-8521-03b02d93146f&amp;pf_rd_r=YFTW7BR3QVEWMS79P88J\"><div class=\"a-section a-spacing-none fluid-image-container\"><img alt=\"Bills\" class=\"landscape-image\" data-a-hires=\"https://images-eu.ssl-images-amazon.com/images/G/31/img17/AmazonPay/Ankit/gw/desktopcard/bills_372_232._SY232_CB448565146_.jpg\" src=\"https://images-eu.ssl-images-amazon.com/images/G/31/img17/AmazonPay/Ankit/gw/desktopcard/bills_186_116._SY116_CB448565146_.jpg\"/></div><div class=\"a-section a-spacing-none image-label truncate-2line\"><span class=\"a-size-small a-color-base aok-align-center aok-inline-block\">Bills</span></div></a>,\n",
       " <a aria-label=\"Movies\" class=\"a-link-normal image-redirect aok-block image-window\" href=\"/b?node=14258645031&amp;pf_rd_p=c2d54cdf-18ab-43c1-8521-03b02d93146f&amp;pf_rd_r=YFTW7BR3QVEWMS79P88J\"><div class=\"a-section a-spacing-none fluid-image-container\"><img alt=\"Movies\" class=\"landscape-image\" data-a-hires=\"https://images-eu.ssl-images-amazon.com/images/G/31/img17/AmazonPay/Ankit/gw/desktopcard/movies_372_232._SY232_CB448565146_.jpg\" src=\"https://images-eu.ssl-images-amazon.com/images/G/31/img17/AmazonPay/Ankit/gw/desktopcard/movies_186_116._SY116_CB448565146_.jpg\"/></div><div class=\"a-section a-spacing-none image-label truncate-2line\"><span class=\"a-size-small a-color-base aok-align-center aok-inline-block\">Movies</span></div></a>,\n",
       " <a aria-label=\"Offers\" class=\"a-link-normal image-redirect aok-block image-window\" href=\"/b?node=14783922031&amp;pf_rd_p=c2d54cdf-18ab-43c1-8521-03b02d93146f&amp;pf_rd_r=YFTW7BR3QVEWMS79P88J\"><div class=\"a-section a-spacing-none fluid-image-container\"><img alt=\"Offers\" class=\"landscape-image\" data-a-hires=\"https://images-eu.ssl-images-amazon.com/images/G/31/img17/AmazonPay/Ankit/gw/desktopcard/offers_372_232._SY232_CB448565143_.jpg\" src=\"https://images-eu.ssl-images-amazon.com/images/G/31/img17/AmazonPay/Ankit/gw/desktopcard/offers_186_116._SY116_CB448565141_.jpg\"/></div><div class=\"a-section a-spacing-none image-label truncate-2line\"><span class=\"a-size-small a-color-base aok-align-center aok-inline-block\">Offers</span></div></a>,\n",
       " <a aria-label=\"Recharges, bills, movies &amp; more - See more\" class=\"a-link-normal see-more truncate-1line\" href=\"/gp/sva/dashboard?pf_rd_p=c2d54cdf-18ab-43c1-8521-03b02d93146f&amp;pf_rd_r=YFTW7BR3QVEWMS79P88J\">See more</a>,\n",
       " <a aria-label=\"Clothing\" class=\"a-link-normal image-redirect aok-block image-window\" href=\"/b?node=1953602031&amp;pf_rd_p=504a7ed0-aed0-4b79-95fc-7bc97309c380&amp;pf_rd_r=YFTW7BR3QVEWMS79P88J\"><div class=\"a-section a-spacing-none fluid-image-container\"><img alt=\"Clothing\" class=\"landscape-image\" data-a-hires=\"https://images-eu.ssl-images-amazon.com/images/G/31/img19/Fashion/WRS19/gateway/PC/Women/Womens-clothing._SY232_CB444779419_.jpg\" src=\"https://images-eu.ssl-images-amazon.com/images/G/31/img19/Fashion/WRS19/gateway/PC/Women/Womens-clothing-50._SY116_CB444779422_.jpg\"/></div><div class=\"a-section a-spacing-none image-label truncate-2line\"><span class=\"a-size-small a-color-base aok-align-center aok-inline-block\">Clothing | Up to 70% off</span></div></a>,\n",
       " <a aria-label=\"Footwear\" class=\"a-link-normal image-redirect aok-block image-window\" href=\"/b?node=1983578031&amp;pf_rd_p=504a7ed0-aed0-4b79-95fc-7bc97309c380&amp;pf_rd_r=YFTW7BR3QVEWMS79P88J\"><div class=\"a-section a-spacing-none fluid-image-container\"><img alt=\"Footwear\" class=\"landscape-image\" data-a-hires=\"https://images-eu.ssl-images-amazon.com/images/G/31/img19/Fashion/WRS19/gateway/PC/Women/Womens-footwear._SY232_CB444779422_.jpg\" src=\"https://images-eu.ssl-images-amazon.com/images/G/31/img19/Fashion/WRS19/gateway/PC/Women/Womens-footwear-50._SY116_CB444779422_.jpg\"/></div><div class=\"a-section a-spacing-none image-label truncate-2line\"><span class=\"a-size-small a-color-base aok-align-center aok-inline-block\">Footwear | Up to 70% off</span></div></a>,\n",
       " <a aria-label=\"Beauty\" class=\"a-link-normal image-redirect aok-block image-window\" href=\"/b?node=1355016031&amp;pf_rd_p=504a7ed0-aed0-4b79-95fc-7bc97309c380&amp;pf_rd_r=YFTW7BR3QVEWMS79P88J\"><div class=\"a-section a-spacing-none fluid-image-container\"><img alt=\"Beauty\" class=\"landscape-image\" data-a-hires=\"https://images-eu.ssl-images-amazon.com/images/G/31/img19/Fashion/WRS19/gateway/PC/Women/Beauty._SY232_CB444779423_.jpg\" src=\"https://images-eu.ssl-images-amazon.com/images/G/31/img19/Fashion/WRS19/gateway/PC/Women/Beauty-50._SY116_CB444779423_.jpg\"/></div><div class=\"a-section a-spacing-none image-label truncate-2line\"><span class=\"a-size-small a-color-base aok-align-center aok-inline-block\">Beauty | Up to 70% off</span></div></a>,\n",
       " <a aria-label=\"Handbags\" class=\"a-link-normal image-redirect aok-block image-window\" href=\"/b?node=1983338031&amp;pf_rd_p=504a7ed0-aed0-4b79-95fc-7bc97309c380&amp;pf_rd_r=YFTW7BR3QVEWMS79P88J\"><div class=\"a-section a-spacing-none fluid-image-container\"><img alt=\"Handbags\" class=\"landscape-image\" data-a-hires=\"https://images-eu.ssl-images-amazon.com/images/G/31/img19/Fashion/WRS19/gateway/PC/Women/Handbags._SY232_CB444779423_.jpg\" src=\"https://images-eu.ssl-images-amazon.com/images/G/31/img19/Fashion/WRS19/gateway/PC/Women/Handbags-50._SY116_CB444779423_.jpg\"/></div><div class=\"a-section a-spacing-none image-label truncate-2line\"><span class=\"a-size-small a-color-base aok-align-center aok-inline-block\">Handbags | Up to 70% off</span></div></a>,\n",
       " <a aria-label=\"EOSS | Women's Fashion - View all offers in End of Season Sale\" class=\"a-link-normal see-more truncate-1line\" href=\"/b?node=6648217031&amp;pf_rd_p=504a7ed0-aed0-4b79-95fc-7bc97309c380&amp;pf_rd_r=YFTW7BR3QVEWMS79P88J\">View all offers in End of Season Sale</a>,\n",
       " <a class=\"a-button-text\" href=\"https://www.amazon.in/ap/signin?openid.return_to=https%3A%2F%2Fwww.amazon.in%2Fref%3Dgw_sgn_ib%2F000-0000000-0000000&amp;openid.identity=http%3A%2F%2Fspecs.openid.net%2Fauth%2F2.0%2Fidentifier_select&amp;openid.assoc_handle=inflex&amp;openid.mode=checkid_setup&amp;marketPlaceId=A21TJRUUN4KGV&amp;openid.claimed_id=http%3A%2F%2Fspecs.openid.net%2Fauth%2F2.0%2Fidentifier_select&amp;openid.ns=http%3A%2F%2Fspecs.openid.net%2Fauth%2F2.0&amp;&amp;pf_rd_p=42f87963-61e1-45da-b4a7-5fa1bb46f7bd&amp;pf_rd_r=YFTW7BR3QVEWMS79P88J\" role=\"button\">Sign in securely</a>,\n",
       " <a aria-label=\"Men's Fashion\" class=\"a-link-normal image-redirect aok-block image-window\" href=\"/Low-Price-With-Free-Shipping/bbp?category=/mens&amp;pf_rd_p=603232ab-8222-4999-9fc6-f4a494024b75&amp;pf_rd_r=YFTW7BR3QVEWMS79P88J\"><div class=\"a-section a-spacing-none fluid-image-container\"><img alt=\"Men's Fashion\" class=\"landscape-image\" data-a-hires=\"https://images-eu.ssl-images-amazon.com/images/G/31/Gateway/BrightBuy/Mens_fashion_372x232._SY232_CB426138153_.jpg\" src=\"https://images-eu.ssl-images-amazon.com/images/G/31/Gateway/BrightBuy/Mens_fashion_186x116._SY116_CB426138152_.jpg\"/></div><div class=\"a-section a-spacing-none image-label truncate-2line\"><span class=\"a-size-small a-color-base aok-align-center aok-inline-block\">Men's Fashion</span></div></a>,\n",
       " <a aria-label=\"Women's Fashion\" class=\"a-link-normal image-redirect aok-block image-window\" href=\"/Low-Price-With-Free-Shipping/bbp?category=/womens&amp;pf_rd_p=603232ab-8222-4999-9fc6-f4a494024b75&amp;pf_rd_r=YFTW7BR3QVEWMS79P88J\"><div class=\"a-section a-spacing-none fluid-image-container\"><img alt=\"Women's Fashion\" class=\"landscape-image\" data-a-hires=\"https://images-eu.ssl-images-amazon.com/images/G/31/Gateway/BrightBuy/Women_fashion_372x232._SY232_CB425816317_.jpg\" src=\"https://images-eu.ssl-images-amazon.com/images/G/31/Gateway/BrightBuy/Women_fashion_186x116._SY116_CB425816290_.jpg\"/></div><div class=\"a-section a-spacing-none image-label truncate-2line\"><span class=\"a-size-small a-color-base aok-align-center aok-inline-block\">Women's Fashion</span></div></a>,\n",
       " <a aria-label=\"Electronics\" class=\"a-link-normal image-redirect aok-block image-window\" href=\"/Low-Price-With-Free-Shipping/bbp?category=/electronics&amp;pf_rd_p=603232ab-8222-4999-9fc6-f4a494024b75&amp;pf_rd_r=YFTW7BR3QVEWMS79P88J\"><div class=\"a-section a-spacing-none fluid-image-container\"><img alt=\"Electronics\" class=\"landscape-image\" data-a-hires=\"https://images-eu.ssl-images-amazon.com/images/G/31/Gateway/BrightBuy/Electronics_372x232._SY232_CB425816290_.jpg\" src=\"https://images-eu.ssl-images-amazon.com/images/G/31/Gateway/BrightBuy/Electronics_186x116._SY116_CB425816290_.jpg\"/></div><div class=\"a-section a-spacing-none image-label truncate-2line\"><span class=\"a-size-small a-color-base aok-align-center aok-inline-block\">Electronics</span></div></a>,\n",
       " <a aria-label=\"Home décor\" class=\"a-link-normal image-redirect aok-block image-window\" href=\"/Low-Price-With-Free-Shipping/bbp?category=/home-decor&amp;pf_rd_p=603232ab-8222-4999-9fc6-f4a494024b75&amp;pf_rd_r=YFTW7BR3QVEWMS79P88J\"><div class=\"a-section a-spacing-none fluid-image-container\"><img alt=\"Home décor\" class=\"landscape-image\" data-a-hires=\"https://images-eu.ssl-images-amazon.com/images/G/31/Gateway/BrightBuy/Home_Decor_372x232._SY232_CB425816317_.jpg\" src=\"https://images-eu.ssl-images-amazon.com/images/G/31/Gateway/BrightBuy/Home_Decor_186x116._SY116_CB425816317_.jpg\"/></div><div class=\"a-section a-spacing-none image-label truncate-2line\"><span class=\"a-size-small a-color-base aok-align-center aok-inline-block\">Home décor</span></div></a>,\n",
       " <a aria-label=\"Under ₹400 | Free delivery - Best bargain finds\" class=\"a-link-normal see-more truncate-1line\" href=\"/Low-Price-With-Free-Shipping/bbp?pf_rd_p=603232ab-8222-4999-9fc6-f4a494024b75&amp;pf_rd_r=YFTW7BR3QVEWMS79P88J\">Best bargain finds</a>,\n",
       " <a aria-label=\"Air conditioners\" class=\"a-link-normal image-redirect aok-block image-window\" href=\"/s?rh=n%3A976442031%2Cn%3A%21976443031%2Cn%3A1380263031%2Cn%3A3474656031%2Cp_85%3A10440599031&amp;bbn=3474656031&amp;pf_rd_p=b1d1e129-bf21-4fdd-af07-12aa1b78af02&amp;pf_rd_r=YFTW7BR3QVEWMS79P88J\"><div class=\"a-section a-spacing-none fluid-image-container\"><img alt=\"Air conditioners\" class=\"landscape-image\" data-a-hires=\"https://images-eu.ssl-images-amazon.com/images/G/31/img17/Home/LA/GWdesktopcards/desktop_qc_372x232_ac_2x._SY232_CB448559274_.jpg\" src=\"https://images-eu.ssl-images-amazon.com/images/G/31/img17/Home/LA/GWdesktopcards/desktop_qc_186x116_ac_1x._SY116_CB448559607_.jpg\"/></div><div class=\"a-section a-spacing-none image-label truncate-2line\"><span class=\"a-size-small a-color-base aok-align-center aok-inline-block\">Air conditioners</span></div></a>,\n",
       " <a aria-label=\"Televisions\" class=\"a-link-normal image-redirect aok-block image-window\" href=\"/b?node=1389396031&amp;pf_rd_p=b1d1e129-bf21-4fdd-af07-12aa1b78af02&amp;pf_rd_r=YFTW7BR3QVEWMS79P88J\"><div class=\"a-section a-spacing-none fluid-image-container\"><img alt=\"Televisions\" class=\"landscape-image\" data-a-hires=\"https://images-eu.ssl-images-amazon.com/images/G/31/img17/Home/LA/GWdesktopcards/desktop_qc_372x232_TV_2x._SY232_CB448559606_.jpg\" src=\"https://images-eu.ssl-images-amazon.com/images/G/31/img17/Home/LA/GWdesktopcards/desktop_qc_186x116_TV_1x._SY116_CB448559607_.jpg\"/></div><div class=\"a-section a-spacing-none image-label truncate-2line\"><span class=\"a-size-small a-color-base aok-align-center aok-inline-block\">Televisions</span></div></a>,\n",
       " <a aria-label=\"Refrigerators\" class=\"a-link-normal image-redirect aok-block image-window\" href=\"/s?bbn=1380365031&amp;rh=n%3A976442031%2Cn%3A%21976443031%2Cn%3A1380263031%2Cn%3A1380365031%2Cp_85%3A10440599031&amp;pf_rd_p=b1d1e129-bf21-4fdd-af07-12aa1b78af02&amp;pf_rd_r=YFTW7BR3QVEWMS79P88J\"><div class=\"a-section a-spacing-none fluid-image-container\"><img alt=\"Refrigerators\" class=\"landscape-image\" data-a-hires=\"https://images-eu.ssl-images-amazon.com/images/G/31/img17/Home/LA/GWdesktopcards/desktop_qc_372x232_refrigerator_2x._SY232_CB448559606_.jpg\" src=\"https://images-eu.ssl-images-amazon.com/images/G/31/img17/Home/LA/GWdesktopcards/desktop_qc_186x116_refrigerator_1x._SY116_CB448559607_.jpg\"/></div><div class=\"a-section a-spacing-none image-label truncate-2line\"><span class=\"a-size-small a-color-base aok-align-center aok-inline-block\">Refrigerators</span></div></a>,\n",
       " <a aria-label=\"Premium TVs\" class=\"a-link-normal image-redirect aok-block image-window\" href=\"/b?node=14089840031&amp;pf_rd_p=b1d1e129-bf21-4fdd-af07-12aa1b78af02&amp;pf_rd_r=YFTW7BR3QVEWMS79P88J\"><div class=\"a-section a-spacing-none fluid-image-container\"><img alt=\"Premium TVs\" class=\"landscape-image\" data-a-hires=\"https://images-eu.ssl-images-amazon.com/images/G/31/img17/Home/LA/GWdesktopcards/desktop_qc_372x232_premium_2x._SY232_CB448559607_.jpg\" src=\"https://images-eu.ssl-images-amazon.com/images/G/31/img17/Home/LA/GWdesktopcards/desktop_qc_186x116_premium_1x._SY116_CB448559607_.jpg\"/></div><div class=\"a-section a-spacing-none image-label truncate-2line\"><span class=\"a-size-small a-color-base aok-align-center aok-inline-block\">Premium TVs</span></div></a>,\n",
       " <a aria-label=\"Up to 45% off | TVs &amp; appliances - See more\" class=\"a-link-normal see-more truncate-1line\" href=\"/b?node=9899981031&amp;pf_rd_p=b1d1e129-bf21-4fdd-af07-12aa1b78af02&amp;pf_rd_r=YFTW7BR3QVEWMS79P88J\">See more</a>,\n",
       " <a class=\"a-link-normal center-image aok-block image-window\" href=\"/b?node=13993588031&amp;pf_rd_p=90ebcf55-058f-4294-9664-e4203feb8820&amp;pf_rd_r=YFTW7BR3QVEWMS79P88J\"><div class=\"a-section a-spacing-none fluid-image-container\"><img alt=\"Up to 40% off : Chocolates &amp; more\" class=\"landscape-image\" data-a-hires=\"https://images-eu.ssl-images-amazon.com/images/G/31/img16/Grocery/CatCards/Grocery_Chocolates_PC_CC_758x608._SY608_CB448703548_.jpg\" src=\"https://images-eu.ssl-images-amazon.com/images/G/31/img16/Grocery/CatCards/Grocery_Chocolates_PC_CC_379x304._SY304_CB448703548_.jpg\"/></div></a>,\n",
       " <a class=\"a-link-normal see-more truncate-1line\" href=\"/b?node=13993588031&amp;pf_rd_p=90ebcf55-058f-4294-9664-e4203feb8820&amp;pf_rd_r=YFTW7BR3QVEWMS79P88J\">See more</a>,\n",
       " <a aria-label=\"Cases &amp; Covers\" class=\"a-link-normal image-redirect aok-block image-window\" href=\"/b?node=1389409031&amp;pf_rd_p=eb60e919-5608-4f7a-b6ee-64b9af220bc9&amp;pf_rd_r=YFTW7BR3QVEWMS79P88J\"><div class=\"a-section a-spacing-none fluid-image-container\"><img alt=\"Cases &amp; Covers\" class=\"landscape-image\" data-a-hires=\"https://images-eu.ssl-images-amazon.com/images/G/31/img19/Wireless/MobileAccessories/MSO/DashboardCards/Uber/Cases_1x._SY232_CB446812015_.jpg\" src=\"https://images-eu.ssl-images-amazon.com/images/G/31/img19/Wireless/MobileAccessories/MSO/DashboardCards/Uber/Cases_2x._SY116_CB446812015_.jpg\"/></div><div class=\"a-section a-spacing-none image-label truncate-2line\"><span class=\"a-size-small a-color-base aok-align-center aok-inline-block\">Cases &amp; covers</span></div></a>,\n",
       " <a aria-label=\"Cables &amp; chargers\" class=\"a-link-normal image-redirect aok-block image-window\" href=\"/b?node=16374629031&amp;pf_rd_p=eb60e919-5608-4f7a-b6ee-64b9af220bc9&amp;pf_rd_r=YFTW7BR3QVEWMS79P88J\"><div class=\"a-section a-spacing-none fluid-image-container\"><img alt=\"Cables &amp; chargers\" class=\"landscape-image\" data-a-hires=\"https://images-eu.ssl-images-amazon.com/images/G/31/img19/Wireless/MobileAccessories/MSO/DashboardCards/Uber/Cable_1x._SY232_CB446812015_.jpg\" src=\"https://images-eu.ssl-images-amazon.com/images/G/31/img19/Wireless/MobileAccessories/MSO/DashboardCards/Uber/Cable_2x._SY116_CB446812015_.jpg\"/></div><div class=\"a-section a-spacing-none image-label truncate-2line\"><span class=\"a-size-small a-color-base aok-align-center aok-inline-block\">Cables &amp; chargers</span></div></a>,\n",
       " <a aria-label=\"Trendy headsets\" class=\"a-link-normal image-redirect aok-block image-window\" href=\"/b?node=1389418031&amp;pf_rd_p=eb60e919-5608-4f7a-b6ee-64b9af220bc9&amp;pf_rd_r=YFTW7BR3QVEWMS79P88J\"><div class=\"a-section a-spacing-none fluid-image-container\"><img alt=\"Trendy headsets\" class=\"landscape-image\" data-a-hires=\"https://images-eu.ssl-images-amazon.com/images/G/31/img19/Wireless/MobileAccessories/MSO/DashboardCards/Uber/Headsets_1x._SY232_CB446812014_.jpg\" src=\"https://images-eu.ssl-images-amazon.com/images/G/31/img19/Wireless/MobileAccessories/MSO/DashboardCards/Uber/Headsets_2x._SY116_CB446812014_.jpg\"/></div><div class=\"a-section a-spacing-none image-label truncate-2line\"><span class=\"a-size-small a-color-base aok-align-center aok-inline-block\">Trendy headsets</span></div></a>,\n",
       " <a aria-label=\"Power banks\" class=\"a-link-normal image-redirect aok-block image-window\" href=\"/b?node=6612025031&amp;pf_rd_p=eb60e919-5608-4f7a-b6ee-64b9af220bc9&amp;pf_rd_r=YFTW7BR3QVEWMS79P88J\"><div class=\"a-section a-spacing-none fluid-image-container\"><img alt=\"Power banks\" class=\"landscape-image\" data-a-hires=\"https://images-eu.ssl-images-amazon.com/images/G/31/img19/Wireless/MobileAccessories/MSO/DashboardCards/Uber/Powerbank_1x._SY232_CB446812014_.jpg\" src=\"https://images-eu.ssl-images-amazon.com/images/G/31/img19/Wireless/MobileAccessories/MSO/DashboardCards/Uber/Powerbank_2x._SY116_CB446812014_.jpg\"/></div><div class=\"a-section a-spacing-none image-label truncate-2line\"><span class=\"a-size-small a-color-base aok-align-center aok-inline-block\">Power banks</span></div></a>,\n",
       " <a aria-label=\"Accessories for your smartphone | Starting ₹99 - See more\" class=\"a-link-normal see-more truncate-1line\" href=\"/b?node=1389402031&amp;pf_rd_p=eb60e919-5608-4f7a-b6ee-64b9af220bc9&amp;pf_rd_r=YFTW7BR3QVEWMS79P88J\">See more</a>,\n",
       " <a aria-label=\"Echo Dot\" class=\"a-link-normal image-redirect aok-block image-window\" href=\"/dp/B07PKXJN7J?pf_rd_p=b5c9dea1-8277-49be-83b2-c06f3b9263ae&amp;pf_rd_r=YFTW7BR3QVEWMS79P88J\"><div class=\"a-section a-spacing-none fluid-image-container\"><img alt=\"Echo Dot\" class=\"landscape-image\" data-a-hires=\"https://images-eu.ssl-images-amazon.com/images/G/31/img17/AmazonDevices/2019/Herotator/MSO/desktop/DC_QC_Echo_2x_1._SY232_CB448579338_.jpg\" src=\"https://images-eu.ssl-images-amazon.com/images/G/31/img17/AmazonDevices/2019/Herotator/MSO/desktop/DC_QC_Echo_1x_1._SY116_CB448579338_.jpg\"/></div><div class=\"a-section a-spacing-none image-label truncate-2line\"><span class=\"a-size-small a-color-base aok-align-center aok-inline-block\">Echo Dot</span></div></a>,\n",
       " <a aria-label=\"Echo Plus\" class=\"a-link-normal image-redirect aok-block image-window\" href=\"/dp/B07CTTL5GR?pf_rd_p=b5c9dea1-8277-49be-83b2-c06f3b9263ae&amp;pf_rd_r=YFTW7BR3QVEWMS79P88J\"><div class=\"a-section a-spacing-none fluid-image-container\"><img alt=\"Echo Plus\" class=\"landscape-image\" data-a-hires=\"https://images-eu.ssl-images-amazon.com/images/G/31/img17/AmazonDevices/2019/Herotator/MSO/desktop/DC_QC_Echo_2x_2._SY232_CB448579338_.jpg\" src=\"https://images-eu.ssl-images-amazon.com/images/G/31/img17/AmazonDevices/2019/Herotator/MSO/desktop/DC_QC_Echo_1x_2._SY116_CB448579338_.jpg\"/></div><div class=\"a-section a-spacing-none image-label truncate-2line\"><span class=\"a-size-small a-color-base aok-align-center aok-inline-block\">Echo Plus</span></div></a>,\n",
       " <a aria-label=\"Echo Show 5\" class=\"a-link-normal image-redirect aok-block image-window\" href=\"/dp/B07KD8L89H?pf_rd_p=b5c9dea1-8277-49be-83b2-c06f3b9263ae&amp;pf_rd_r=YFTW7BR3QVEWMS79P88J\"><div class=\"a-section a-spacing-none fluid-image-container\"><img alt=\"Echo Show 5\" class=\"landscape-image\" data-a-hires=\"https://images-eu.ssl-images-amazon.com/images/G/31/img17/AmazonDevices/2019/Herotator/MSO/desktop/uuDC_QC_Echo_2x_3._SY232_CB448592007_.jpg\" src=\"https://images-eu.ssl-images-amazon.com/images/G/31/img17/AmazonDevices/2019/Herotator/MSO/desktop/uuDC_QC_Echo_1x_3._SY116_CB448592056_.jpg\"/></div><div class=\"a-section a-spacing-none image-label truncate-2line\"><span class=\"a-size-small a-color-base aok-align-center aok-inline-block\">Echo Show 5</span></div></a>,\n",
       " <a aria-label=\"Amazon Echo\" class=\"a-link-normal image-redirect aok-block image-window\" href=\"/b?node=14156834031&amp;pf_rd_p=b5c9dea1-8277-49be-83b2-c06f3b9263ae&amp;pf_rd_r=YFTW7BR3QVEWMS79P88J\"><div class=\"a-section a-spacing-none fluid-image-container\"><img alt=\"Amazon Echo\" class=\"landscape-image\" data-a-hires=\"https://images-eu.ssl-images-amazon.com/images/G/31/img17/AmazonDevices/2019/Herotator/MSO/desktop/2._SY232_CB448631119_.jpg\" src=\"https://images-eu.ssl-images-amazon.com/images/G/31/img17/AmazonDevices/2019/Herotator/MSO/desktop/1._SY116_CB448631159_.jpg\"/></div><div class=\"a-section a-spacing-none image-label truncate-2line\"><span class=\"a-size-small a-color-base aok-align-center aok-inline-block\">Amazon Echo</span></div></a>,\n",
       " <a aria-label=\"Echo devices | Smart speaker with Alexa - See more\" class=\"a-link-normal see-more truncate-1line\" href=\"/b?node=14156834031&amp;pf_rd_p=b5c9dea1-8277-49be-83b2-c06f3b9263ae&amp;pf_rd_r=YFTW7BR3QVEWMS79P88J\">See more</a>,\n",
       " <a class=\"nav-npt-a\" href=\"/prime\">Get started</a>,\n",
       " <a class=\"nav_a\" href=\"/gp/prime\"></a>,\n",
       " <a aria-label=\"Today's Deals - See all deals\" class=\"a-link-normal\" href=\"https://www.amazon.in:443/gp/redirect.html/ref=nav_topnav_deals?ie=UTF8&amp;location=https%3A%2F%2Fwww.amazon.in%2Fgp%2Fgoldbox%3Fref%3Dnav_topnav_deals&amp;source=standards&amp;token=424D76FECCE2750383DF164C0AFF493CF1988B05&amp;pf_rd_m=A1VBAL9TL5WCBF&amp;pf_rd_s=&amp;pf_rd_r=YFTW7BR3QVEWMS79P88J&amp;pf_rd_t=36701&amp;pf_rd_p=3ee7fd98-e85f-47bb-91a5-7de85fe7ede5&amp;pf_rd_i=desktop\" target=\"_blank\">\n",
       "   \n",
       "   See all deals\n",
       " \n",
       " </a>,\n",
       " <a class=\"a-link-normal a-inline-block\" href=\"/Test-Exclusive-646/dp/B07HGJKDRR/ref=br_msw_pdt-1?_encoding=UTF8&amp;smid=A1EWEIV3F4B24B&amp;pf_rd_m=A1VBAL9TL5WCBF&amp;pf_rd_s=&amp;pf_rd_r=YFTW7BR3QVEWMS79P88J&amp;pf_rd_t=36701&amp;pf_rd_p=3ee7fd98-e85f-47bb-91a5-7de85fe7ede5&amp;pf_rd_i=desktop\"><img alt=\"Samsung Galaxy M40 | Rs 3491 Off | Now at Rs.16999\" class=\"product-image\" data-a-hires=\"https://images-na.ssl-images-amazon.com/images/I/41N8ADm0T-L.__AC_SY400_.jpg\" src=\"https://images-na.ssl-images-amazon.com/images/I/41N8ADm0T-L.__AC_SY200_.jpg\" title=\"Samsung Galaxy M40 | Rs 3491 Off | Now at Rs.16999\"/></a>,\n",
       " <a class=\"a-link-normal a-inline-block\" href=\"/dp/B07DJL15MJ/ref=br_msw_pdt-2?_encoding=UTF8&amp;smid=A14CZOWI0VEHLG&amp;pf_rd_m=A1VBAL9TL5WCBF&amp;pf_rd_s=&amp;pf_rd_r=YFTW7BR3QVEWMS79P88J&amp;pf_rd_t=36701&amp;pf_rd_p=3ee7fd98-e85f-47bb-91a5-7de85fe7ede5&amp;pf_rd_i=desktop\"><img alt=\"Vivo U10 | 5000 Mah Battery |\" class=\"product-image\" data-a-hires=\"https://images-na.ssl-images-amazon.com/images/I/41PgAj0uO%2BL.__AC_SY400_.jpg\" src=\"https://images-na.ssl-images-amazon.com/images/I/41PgAj0uO%2BL.__AC_SY200_.jpg\" title=\"Vivo U10 | 5000 Mah Battery |\"/></a>,\n",
       " <a class=\"a-link-normal a-inline-block\" href=\"/b/ref=br_msw_pdt-3?_encoding=UTF8&amp;node=20514184031&amp;smid=AT95IG9ONZD7S&amp;pf_rd_m=A1VBAL9TL5WCBF&amp;pf_rd_s=&amp;pf_rd_r=YFTW7BR3QVEWMS79P88J&amp;pf_rd_t=36701&amp;pf_rd_p=3ee7fd98-e85f-47bb-91a5-7de85fe7ede5&amp;pf_rd_i=desktop\"><img alt=\"Kid’s Apparel from Amazon Brand Jam &amp; Honey, Gubbarey &amp; More\" class=\"product-image\" data-a-hires=\"https://images-na.ssl-images-amazon.com/images/I/41MRu187DEL.__AC_SY400_.jpg\" src=\"https://images-na.ssl-images-amazon.com/images/I/41MRu187DEL.__AC_SY200_.jpg\" title=\"Kid’s Apparel from Amazon Brand Jam &amp; Honey, Gubbarey &amp; More\"/></a>,\n",
       " <a class=\"a-link-normal a-inline-block\" href=\"/deal/c896338f/ref=br_msw_pdt-4?_encoding=UTF8&amp;smid=A14CZOWI0VEHLG&amp;pf_rd_m=A1VBAL9TL5WCBF&amp;pf_rd_s=&amp;pf_rd_r=YFTW7BR3QVEWMS79P88J&amp;pf_rd_t=36701&amp;pf_rd_p=3ee7fd98-e85f-47bb-91a5-7de85fe7ede5&amp;pf_rd_i=desktop\"><img alt=\"Nu Republic and Energy Sistems Headphones and Speakers Up to 70% off\" class=\"product-image\" data-a-hires=\"https://images-na.ssl-images-amazon.com/images/I/41kBU9rwYsL.__AC_SY400_.jpg\" src=\"https://images-na.ssl-images-amazon.com/images/I/41kBU9rwYsL.__AC_SY200_.jpg\" title=\"Nu Republic and Energy Sistems Headphones and Speakers Up to 70% off\"/></a>,\n",
       " <a class=\"a-link-normal a-inline-block\" href=\"/b/ref=br_msw_pdt-5?_encoding=UTF8&amp;node=20514191031&amp;smid=AT95IG9ONZD7S&amp;pf_rd_m=A1VBAL9TL5WCBF&amp;pf_rd_s=&amp;pf_rd_r=YFTW7BR3QVEWMS79P88J&amp;pf_rd_t=36701&amp;pf_rd_p=3ee7fd98-e85f-47bb-91a5-7de85fe7ede5&amp;pf_rd_i=desktop\"><img alt=\"Winterwear from Amazon Brands Symbol, House &amp; Shields  &amp; more\" class=\"product-image\" data-a-hires=\"https://images-na.ssl-images-amazon.com/images/I/41Tt2kqvcBL.__AC_SY400_.jpg\" src=\"https://images-na.ssl-images-amazon.com/images/I/41Tt2kqvcBL.__AC_SY200_.jpg\" title=\"Winterwear from Amazon Brands Symbol, House &amp; Shields  &amp; more\"/></a>,\n",
       " <a class=\"a-link-normal a-inline-block\" href=\"/s/ref=br_msw_pdt-6?_encoding=UTF8&amp;hidden-keywords=B075HB7GSJ%7CB071RN7D8N%7CB07GYLLQ88%7CB07RK9JHLQ%7CB07RT3W53H%7CB072JYM7WL%7CB07XWJH1W1%7CB07RV98QGW%7CB07RK9M3JN&amp;smid=A24YJDE080KZ9Y&amp;url=search-alias%3Daps&amp;pf_rd_m=A1VBAL9TL5WCBF&amp;pf_rd_s=&amp;pf_rd_r=YFTW7BR3QVEWMS79P88J&amp;pf_rd_t=36701&amp;pf_rd_p=3ee7fd98-e85f-47bb-91a5-7de85fe7ede5&amp;pf_rd_i=desktop\"><img alt=\"Up to 40% off on Skin Elements\" class=\"product-image\" data-a-hires=\"https://images-na.ssl-images-amazon.com/images/I/41XF-WxMFnL.__AC_SY400_.jpg\" src=\"https://images-na.ssl-images-amazon.com/images/I/41XF-WxMFnL.__AC_SY200_.jpg\" title=\"Up to 40% off on Skin Elements\"/></a>,\n",
       " <a class=\"a-link-normal a-inline-block\" href=\"/l/20588859031/ref=br_msw_pdt-7?_encoding=UTF8&amp;smid=A3VLEIMVWIB3GX&amp;pf_rd_m=A1VBAL9TL5WCBF&amp;pf_rd_s=&amp;pf_rd_r=YFTW7BR3QVEWMS79P88J&amp;pf_rd_t=36701&amp;pf_rd_p=3ee7fd98-e85f-47bb-91a5-7de85fe7ede5&amp;pf_rd_i=desktop\"><img alt=\"Upto 60% off on Blankets, Bedsheets, Curtains and more\" class=\"product-image\" data-a-hires=\"https://images-na.ssl-images-amazon.com/images/I/51Q9GD2C94L.__AC_SY400_.jpg\" src=\"https://images-na.ssl-images-amazon.com/images/I/51Q9GD2C94L.__AC_SY200_.jpg\" title=\"Upto 60% off on Blankets, Bedsheets, Curtains and more\"/></a>,\n",
       " <a aria-label=\"Carousel previous slide\" class=\"feed-carousel-control feed-left\" href=\"#\" tabindex=\"-1\">\n",
       " <span class=\"gw-icon feed-arrow\"></span>\n",
       " </a>,\n",
       " <a aria-label=\"Carousel next slide\" class=\"feed-carousel-control feed-right\" href=\"#\" tabindex=\"-1\">\n",
       " <span class=\"gw-icon feed-arrow\"></span>\n",
       " </a>,\n",
       " <a aria-label=\"Up to 10% off | Gold coins - See more \" class=\"a-link-normal\" href=\"s/rh=i%3Ajewelry%2Cn%3A1951048031%2Cn%3A%212152573031%2Cn%3A%212152575031%2Cn%3A5210069031%2Cn%3A7124358031%2Cn%3A2908910031%2Cp_n_material_two_browse-bin%3A2160347031&amp;bbn=5210069031&amp;field-pct-off-with-tax=2-&amp;rw_html_to_wsrp=1?pf_rd_p=0a4bcd01-23d3-495d-9d35-c0c1985bf0fc&amp;pd_rd_wg=pG5xs&amp;pf_rd_r=YFTW7BR3QVEWMS79P88J&amp;ref_=pd_gw_unk&amp;pd_rd_w=DSjOk&amp;pd_rd_r=cac640b1-d78e-471b-ae8a-90f797b57001\">See more </a>,\n",
       " <a class=\"a-link-normal\" href=\"/IBJA-Gold-24K-Yellow-Precious/dp/B076HQGJ4K?pf_rd_p=0a4bcd01-23d3-495d-9d35-c0c1985bf0fc&amp;pd_rd_wg=pG5xs&amp;pf_rd_r=YFTW7BR3QVEWMS79P88J&amp;ref_=pd_gw_unk&amp;pd_rd_w=DSjOk&amp;pd_rd_r=cac640b1-d78e-471b-ae8a-90f797b57001\"><img alt=\"IBJA Gold 24k (999) 10 gm Yellow Gold Bar\" class=\"product-image\" data-a-hires=\"https://images-eu.ssl-images-amazon.com/images/I/71bpluKmk-L._AC_SY400_.jpg\" height=\"200px\" src=\"https://images-eu.ssl-images-amazon.com/images/I/71bpluKmk-L._AC_SY200_.jpg\"/></a>,\n",
       " <a class=\"a-link-normal\" href=\"/Joyalukkas-Assayer-Certified-Yellow-Precious/dp/B018X1HENI?pf_rd_p=0a4bcd01-23d3-495d-9d35-c0c1985bf0fc&amp;pd_rd_wg=pG5xs&amp;pf_rd_r=YFTW7BR3QVEWMS79P88J&amp;ref_=pd_gw_unk&amp;pd_rd_w=DSjOk&amp;pd_rd_r=cac640b1-d78e-471b-ae8a-90f797b57001\"><img alt=\"Joyalukkas Assayer Certified 10 grams, 24k (999) Yellow Gold Precious Gold Bar\" class=\"product-image\" data-a-hires=\"https://images-eu.ssl-images-amazon.com/images/I/71n89RYIP-L._AC_SY400_.jpg\" height=\"200px\" src=\"https://images-eu.ssl-images-amazon.com/images/I/71n89RYIP-L._AC_SY200_.jpg\"/></a>,\n",
       " <a class=\"a-link-normal\" href=\"/Bangalore-Refinery-999-9-Yellow-Gold/dp/B01HVB3PSY?pf_rd_p=0a4bcd01-23d3-495d-9d35-c0c1985bf0fc&amp;pd_rd_wg=pG5xs&amp;pf_rd_r=YFTW7BR3QVEWMS79P88J&amp;ref_=pd_gw_unk&amp;pd_rd_w=DSjOk&amp;pd_rd_r=cac640b1-d78e-471b-ae8a-90f797b57001\"><img alt=\"Bangalore Refinery 1 gm, 24k (999.9) Yellow Gold Bar\" class=\"product-image\" data-a-hires=\"https://images-eu.ssl-images-amazon.com/images/I/61IGxkqVRlL._AC_SY400_.jpg\" height=\"200px\" src=\"https://images-eu.ssl-images-amazon.com/images/I/61IGxkqVRlL._AC_SY200_.jpg\"/></a>,\n",
       " <a class=\"a-link-normal\" href=\"/Bangalore-Refinery-999-9-Yellow-Gold/dp/B01HVB3PUC?pf_rd_p=0a4bcd01-23d3-495d-9d35-c0c1985bf0fc&amp;pd_rd_wg=pG5xs&amp;pf_rd_r=YFTW7BR3QVEWMS79P88J&amp;ref_=pd_gw_unk&amp;pd_rd_w=DSjOk&amp;pd_rd_r=cac640b1-d78e-471b-ae8a-90f797b57001\"><img alt=\"Bangalore Refinery 24k (999.9) 10 gm Yellow Gold Bar\" class=\"product-image\" data-a-hires=\"https://images-eu.ssl-images-amazon.com/images/I/61Av9z5q3WL._AC_SY400_.jpg\" height=\"200px\" src=\"https://images-eu.ssl-images-amazon.com/images/I/61Av9z5q3WL._AC_SY200_.jpg\"/></a>,\n",
       " <a class=\"a-link-normal\" href=\"/IBJA-Gold-24K-Yellow-Precious/dp/B076HZNSDT?pf_rd_p=0a4bcd01-23d3-495d-9d35-c0c1985bf0fc&amp;pd_rd_wg=pG5xs&amp;pf_rd_r=YFTW7BR3QVEWMS79P88J&amp;ref_=pd_gw_unk&amp;pd_rd_w=DSjOk&amp;pd_rd_r=cac640b1-d78e-471b-ae8a-90f797b57001\"><img alt=\"IBJA Gold 24k (999) 5 gm Yellow Gold Bar\" class=\"product-image\" data-a-hires=\"https://images-eu.ssl-images-amazon.com/images/I/71zeAK-6qyL._AC_SY400_.jpg\" height=\"200px\" src=\"https://images-eu.ssl-images-amazon.com/images/I/71zeAK-6qyL._AC_SY200_.jpg\"/></a>,\n",
       " <a class=\"a-link-normal\" href=\"/Bangalore-Refinery-999-9-Yellow-Gold/dp/B01HVB3PN4?pf_rd_p=0a4bcd01-23d3-495d-9d35-c0c1985bf0fc&amp;pd_rd_wg=pG5xs&amp;pf_rd_r=YFTW7BR3QVEWMS79P88J&amp;ref_=pd_gw_unk&amp;pd_rd_w=DSjOk&amp;pd_rd_r=cac640b1-d78e-471b-ae8a-90f797b57001\"><img alt=\"Bangalore Refinery 24k (999.9) 2 gm Yellow Gold Bar\" class=\"product-image\" data-a-hires=\"https://images-eu.ssl-images-amazon.com/images/I/61Hud2f6QwL._AC_SY400_.jpg\" height=\"200px\" src=\"https://images-eu.ssl-images-amazon.com/images/I/61Hud2f6QwL._AC_SY200_.jpg\"/></a>,\n",
       " <a class=\"a-link-normal\" href=\"/Malabar-Gold-Diamonds-Purity-MGRS999P5G/dp/B017IUK7T8?pf_rd_p=0a4bcd01-23d3-495d-9d35-c0c1985bf0fc&amp;pd_rd_wg=pG5xs&amp;pf_rd_r=YFTW7BR3QVEWMS79P88J&amp;ref_=pd_gw_unk&amp;pd_rd_w=DSjOk&amp;pd_rd_r=cac640b1-d78e-471b-ae8a-90f797b57001\"><img alt=\"Malabar Gold and Diamonds 999 Purity 5 gms, 24k Rose Gold Coin (MGRS999P5G)\" class=\"product-image\" data-a-hires=\"https://images-eu.ssl-images-amazon.com/images/I/71IvNbWeS-L._AC_SY400_.jpg\" height=\"200px\" src=\"https://images-eu.ssl-images-amazon.com/images/I/71IvNbWeS-L._AC_SY200_.jpg\"/></a>,\n",
       " <a aria-label=\"Carousel previous slide\" class=\"a-link-normal feed-carousel-control feed-left\" href=\"#\" tabindex=\"-1\"><span class=\"gw-icon feed-arrow\"></span></a>,\n",
       " <a aria-label=\"Carousel next slide\" class=\"a-link-normal feed-carousel-control feed-right\" href=\"#\" tabindex=\"-1\"><span class=\"gw-icon feed-arrow\"></span></a>,\n",
       " <a aria-label=\"In ear\" class=\"a-link-normal image-redirect aok-block image-window\" href=\"/b?node=17408712031&amp;pf_rd_p=a0e9ecfc-24e2-4f12-93f9-3d73124f5f01&amp;pf_rd_r=YFTW7BR3QVEWMS79P88J\"><div class=\"a-section a-spacing-none fluid-image-container\"><img alt=\"In ear\" class=\"landscape-image\" data-a-hires=\"https://images-eu.ssl-images-amazon.com/images/G/31/img19/Wireless/MobileAccessories/MSO/DashboardCards/Headsets/Neckband_2x._SY232_CB446822336_.jpg\" src=\"https://images-eu.ssl-images-amazon.com/images/G/31/img19/Wireless/MobileAccessories/MSO/DashboardCards/Headsets/Neckband_1x._SY116_CB446822337_.jpg\"/></div><div class=\"a-section a-spacing-none image-label truncate-2line\"><span class=\"a-size-small a-color-base aok-align-center aok-inline-block\">In ear</span></div></a>,\n",
       " <a aria-label=\"Over ear headphones\" class=\"a-link-normal image-redirect aok-block image-window\" href=\"/b?node=17408713031&amp;pf_rd_p=a0e9ecfc-24e2-4f12-93f9-3d73124f5f01&amp;pf_rd_r=YFTW7BR3QVEWMS79P88J\"><div class=\"a-section a-spacing-none fluid-image-container\"><img alt=\"Over ear headphones\" class=\"landscape-image\" data-a-hires=\"https://images-eu.ssl-images-amazon.com/images/G/31/img19/Wireless/MobileAccessories/MSO/DashboardCards/Headsets/Headphones_2x._SY232_CB446822337_.jpg\" src=\"https://images-eu.ssl-images-amazon.com/images/G/31/img19/Wireless/MobileAccessories/MSO/DashboardCards/Headsets/Headphones_1x._SY116_CB446822337_.jpg\"/></div><div class=\"a-section a-spacing-none image-label truncate-2line\"><span class=\"a-size-small a-color-base aok-align-center aok-inline-block\">Over ear</span></div></a>,\n",
       " <a aria-label=\"True WIreless\" class=\"a-link-normal image-redirect aok-block image-window\" href=\"/b?node=17408714031&amp;pf_rd_p=a0e9ecfc-24e2-4f12-93f9-3d73124f5f01&amp;pf_rd_r=YFTW7BR3QVEWMS79P88J\"><div class=\"a-section a-spacing-none fluid-image-container\"><img alt=\"True WIreless\" class=\"landscape-image\" data-a-hires=\"https://images-eu.ssl-images-amazon.com/images/G/31/img19/Wireless/MobileAccessories/MSO/DashboardCards/Headsets/TruwWireless_2x._SY232_CB446822336_.jpg\" src=\"https://images-eu.ssl-images-amazon.com/images/G/31/img19/Wireless/MobileAccessories/MSO/DashboardCards/Headsets/TrueWireless_1x._SY116_CB446822336_.jpg\"/></div><div class=\"a-section a-spacing-none image-label truncate-2line\"><span class=\"a-size-small a-color-base aok-align-center aok-inline-block\">True wireless</span></div></a>,\n",
       " <a aria-label=\"Sports &amp; fitness\" class=\"a-link-normal image-redirect aok-block image-window\" href=\"/b?node=17408715031&amp;pf_rd_p=a0e9ecfc-24e2-4f12-93f9-3d73124f5f01&amp;pf_rd_r=YFTW7BR3QVEWMS79P88J\"><div class=\"a-section a-spacing-none fluid-image-container\"><img alt=\"Sports &amp; fitness\" class=\"landscape-image\" data-a-hires=\"https://images-eu.ssl-images-amazon.com/images/G/31/img19/Wireless/MobileAccessories/MSO/DashboardCards/Headsets/SportsnFitness_2x._SY232_CB446822336_.jpg\" src=\"https://images-eu.ssl-images-amazon.com/images/G/31/img19/Wireless/MobileAccessories/MSO/DashboardCards/Headsets/SportsnFItness_1x._SY116_CB446822336_.jpg\"/></div><div class=\"a-section a-spacing-none image-label truncate-2line\"><span class=\"a-size-small a-color-base aok-align-center aok-inline-block\">Sports &amp; fitness</span></div></a>,\n",
       " <a aria-label=\"Headsets for all styles | Starting ₹499 - See more\" class=\"a-link-normal see-more truncate-1line\" href=\"/b?node=1389418031&amp;pf_rd_p=a0e9ecfc-24e2-4f12-93f9-3d73124f5f01&amp;pf_rd_r=YFTW7BR3QVEWMS79P88J\">See more</a>,\n",
       " <a aria-label=\"Stoves\" class=\"a-link-normal image-redirect aok-block image-window\" href=\"/b?ie=UTF8&amp;node=1380267031&amp;pf_rd_p=7609da31-e07f-46bb-bd6a-c3c2e5dfa8e8&amp;pf_rd_r=YFTW7BR3QVEWMS79P88J\"><div class=\"a-section a-spacing-none fluid-image-container\"><img alt=\"Stoves\" class=\"landscape-image\" data-a-hires=\"https://images-eu.ssl-images-amazon.com/images/G/31/IN-hq/2019/img/Kitchen/XCM_Manual_372x232_1198417XCM_Manual_1198417__1_1573567224_jpg_LOWER_QL85_._SY232_CB448746450_.jpg\" src=\"https://images-eu.ssl-images-amazon.com/images/G/31/IN-hq/2019/img/Kitchen/XCM_Manual_186x116_1198417XCM_Manual_1198417__1_1573567224_jpg_LOWER_QL85_._SY116_CB448746413_.jpg\"/></div><div class=\"a-section a-spacing-none image-label truncate-2line\"><span class=\"a-size-small a-color-base aok-align-center aok-inline-block\">Gas stoves</span></div></a>,\n",
       " <a aria-label=\"Cookware\" class=\"a-link-normal image-redirect aok-block image-window\" href=\"/b?ie=UTF8&amp;node=1380027031&amp;pf_rd_p=7609da31-e07f-46bb-bd6a-c3c2e5dfa8e8&amp;pf_rd_r=YFTW7BR3QVEWMS79P88J\"><div class=\"a-section a-spacing-none fluid-image-container\"><img alt=\"Cookware\" class=\"landscape-image\" data-a-hires=\"https://images-eu.ssl-images-amazon.com/images/G/31/IN-hq/2019/img/Kitchen/XCM_Manual_372x232_1198417XCM_Manual_1198417__2_1573567224_jpg_LOWER_QL85_._SY232_CB448746407_.jpg\" src=\"https://images-eu.ssl-images-amazon.com/images/G/31/IN-hq/2019/img/Kitchen/XCM_Manual_186x116_1198417XCM_Manual_1198417__2_1573567224_jpg_LOWER_QL85_._SY116_CB448746414_.jpg\"/></div><div class=\"a-section a-spacing-none image-label truncate-2line\"><span class=\"a-size-small a-color-base aok-align-center aok-inline-block\">Cookware</span></div></a>,\n",
       " <a aria-label=\"Thermos &amp; flask\" class=\"a-link-normal image-redirect aok-block image-window\" href=\"/b?ie=UTF8&amp;node=1379989031&amp;pf_rd_p=7609da31-e07f-46bb-bd6a-c3c2e5dfa8e8&amp;pf_rd_r=YFTW7BR3QVEWMS79P88J\"><div class=\"a-section a-spacing-none fluid-image-container\"><img alt=\"Thermos &amp; flask\" class=\"landscape-image\" data-a-hires=\"https://images-eu.ssl-images-amazon.com/images/G/31/IN-hq/2019/img/Kitchen/XCM_Manual_372x232_1198417XCM_Manual_3_copy_1573713358_jpg_LOWER_QL85_._SY232_CB448746424_.jpg\" src=\"https://images-eu.ssl-images-amazon.com/images/G/31/IN-hq/2019/img/Kitchen/XCM_Manual_186x116_1198417XCM_Manual_3_copyx400x2C5x_1573713358_jpg_LOWER_QL85_._SY116_CB448746424_.jpg\"/></div><div class=\"a-section a-spacing-none image-label truncate-2line\"><span class=\"a-size-small a-color-base aok-align-center aok-inline-block\">Kitchen storage</span></div></a>,\n",
       " <a aria-label=\"Tableware\" class=\"a-link-normal image-redirect aok-block image-window\" href=\"/b?ie=UTF8&amp;node=1380098031&amp;pf_rd_p=7609da31-e07f-46bb-bd6a-c3c2e5dfa8e8&amp;pf_rd_r=YFTW7BR3QVEWMS79P88J\"><div class=\"a-section a-spacing-none fluid-image-container\"><img alt=\"Tableware\" class=\"landscape-image\" data-a-hires=\"https://images-eu.ssl-images-amazon.com/images/G/31/IN-hq/2019/img/Kitchen/XCM_Manual_372x232_1198417XCM_Manual_1198417__4_1573567224_jpg_LOWER_QL85_._SY232_CB448746407_.jpg\" src=\"https://images-eu.ssl-images-amazon.com/images/G/31/IN-hq/2019/img/Kitchen/XCM_Manual_186x116_1198417XCM_Manual_1198417__4_1573567224_jpg_LOWER_QL85_._SY116_CB448746450_.jpg\"/></div><div class=\"a-section a-spacing-none image-label truncate-2line\"><span class=\"a-size-small a-color-base aok-align-center aok-inline-block\">Tableware</span></div></a>,\n",
       " <a aria-label=\"Up to 60% off: Cookware &amp; dining - See more\" class=\"a-link-normal see-more truncate-1line\" href=\"/b?node=5925789031&amp;pf_rd_p=7609da31-e07f-46bb-bd6a-c3c2e5dfa8e8&amp;pf_rd_r=YFTW7BR3QVEWMS79P88J\">See more</a>,\n",
       " <a aria-label=\"Fashion\" class=\"a-link-normal image-redirect aok-block image-window\" href=\"/b?node=5210079031&amp;pf_rd_p=8b2ac027-47fd-4b63-a951-64e807a951c8&amp;pf_rd_r=YFTW7BR3QVEWMS79P88J\"><div class=\"a-section a-spacing-none fluid-image-container\"><img alt=\"Fashion\" class=\"landscape-image\" data-a-hires=\"https://images-eu.ssl-images-amazon.com/images/G/31/img19/Jew/Dec/WRS/GW/DesktopGateway_QuadCard_372X232_ASIN_LIFESTYLE_06._SY232_CB444712593_.jpg\" src=\"https://images-eu.ssl-images-amazon.com/images/G/31/img19/Jew/Dec/WRS/GW/PC/DesktopGateway_QuadCard_372X232_ASIN_LIFESTYLE_06._SY116_CB444712585_.jpg\"/></div><div class=\"a-section a-spacing-none image-label truncate-2line\"><span class=\"a-size-small a-color-base aok-align-center aok-inline-block\">Up to 70% off | Fashion jewellery</span></div></a>,\n",
       " <a aria-label=\"Up to 70% off | Traditional jewellery\" class=\"a-link-normal image-redirect aok-block image-window\" href=\"/b?node=3543375031&amp;pf_rd_p=8b2ac027-47fd-4b63-a951-64e807a951c8&amp;pf_rd_r=YFTW7BR3QVEWMS79P88J\"><div class=\"a-section a-spacing-none fluid-image-container\"><img alt=\"Up to 70% off | Traditional jewellery\" class=\"landscape-image\" data-a-hires=\"https://images-eu.ssl-images-amazon.com/images/G/31/img19/Jew/Dec/WRS/GW/DesktopGateway_QuadCard_372X232_ASIN_LIFESTYLE_10._SY232_CB444712598_.jpg\" src=\"https://images-eu.ssl-images-amazon.com/images/G/31/img19/Jew/Dec/WRS/GW/PC/DesktopGateway_QuadCard_372X232_ASIN_LIFESTYLE_10._SY116_CB444712584_.jpg\"/></div><div class=\"a-section a-spacing-none image-label truncate-2line\"><span class=\"a-size-small a-color-base aok-align-center aok-inline-block\">Up to 70% off | Traditional jewellery</span></div></a>,\n",
       " <a aria-label=\"Silver jewellery\" class=\"a-link-normal image-redirect aok-block image-window\" href=\"/b?node=3588502031&amp;pf_rd_p=8b2ac027-47fd-4b63-a951-64e807a951c8&amp;pf_rd_r=YFTW7BR3QVEWMS79P88J\"><div class=\"a-section a-spacing-none fluid-image-container\"><img alt=\"Silver jewellery\" class=\"landscape-image\" data-a-hires=\"https://images-eu.ssl-images-amazon.com/images/G/31/img19/Jew/Dec/WRS/GW/Changes/DesktopGateway_QuadCard_372X232_ASIN_LIFESTYLE_11._SY232_CB445025471_.jpg\" src=\"https://images-eu.ssl-images-amazon.com/images/G/31/img19/Jew/Dec/WRS/GW/Changes/DesktopGateway_QuadCard_lowressil._SY116_CB445026255_.jpg\"/></div><div class=\"a-section a-spacing-none image-label truncate-2line\"><span class=\"a-size-small a-color-base aok-align-center aok-inline-block\">Up to 50% off | Silver jewellery</span></div></a>,\n",
       " <a aria-label=\"Up to 30% off | Gold &amp; Diamond\" class=\"a-link-normal image-redirect aok-block image-window\" href=\"/b?node=5210069031&amp;pf_rd_p=8b2ac027-47fd-4b63-a951-64e807a951c8&amp;pf_rd_r=YFTW7BR3QVEWMS79P88J\"><div class=\"a-section a-spacing-none fluid-image-container\"><img alt=\"Up to 30% off | Gold &amp; Diamond\" class=\"landscape-image\" data-a-hires=\"https://images-eu.ssl-images-amazon.com/images/G/31/img19/Jew/Dec/WRS/GW/Changes/DesktopGateway_QuadCard_372X232_ASIN_LIFESTYLE_03._SY232_CB445025471_.jpg\" src=\"https://images-eu.ssl-images-amazon.com/images/G/31/img19/Jew/Dec/WRS/GW/Changes/DesktopGateway_QuadCard_lowresGW._SY116_CB445026255_.jpg\"/></div><div class=\"a-section a-spacing-none image-label truncate-2line\"><span class=\"a-size-small a-color-base aok-align-center aok-inline-block\">Up to 30% off | Gold &amp; diamond</span></div></a>,\n",
       " <a aria-label=\"EOSS | Jewellery | Up to 70% off - Explore all\" class=\"a-link-normal see-more truncate-1line\" href=\"/b?node=1951048031&amp;pf_rd_p=8b2ac027-47fd-4b63-a951-64e807a951c8&amp;pf_rd_r=YFTW7BR3QVEWMS79P88J\">Explore all</a>,\n",
       " <a class=\"a-link-normal center-image aok-block image-window\" href=\"/l/4286644031?pf_rd_p=4d8e3df5-83a3-455f-a417-f63ea20c538b&amp;pf_rd_r=YFTW7BR3QVEWMS79P88J\"><div class=\"a-section a-spacing-none fluid-image-container\"><img alt=\"Tools for home\" class=\"landscape-image\" data-a-hires=\"https://images-eu.ssl-images-amazon.com/images/G/31/IN-hq/2019/img/Home_Improvement/XCM_Manual_758x608_1198909XCM_Manual_1198909__2_1573718372_jpg_LOWER_QL85_._SY608_CB448756388_.jpg\" src=\"https://images-eu.ssl-images-amazon.com/images/G/31/IN-hq/2019/img/Home_Improvement/XCM_Manual_379x304_1198909XCM_Manual_1198909__2_1573718372_jpg_LOWER_QL85_._SY304_CB448756436_.jpg\"/></div></a>,\n",
       " <a class=\"a-link-normal see-more truncate-1line\" href=\"/s?rh=n%3A3704992031%2Cn%3A%213704993031%2Cn%3A4286644031%2Cp_85%3A10440599031&amp;bbn=4286644031&amp;pf_rd_p=4d8e3df5-83a3-455f-a417-f63ea20c538b&amp;pf_rd_r=YFTW7BR3QVEWMS79P88J\">See more</a>,\n",
       " <a aria-label=\"Up to 60% off headphones &amp; speakers | Amazon Brands &amp; more - See more \" class=\"a-link-normal\" href=\"/b?node=18589012031&amp;pf_rd_p=3809ee9b-8176-496c-9034-367008fa33a9&amp;pd_rd_wg=pG5xs&amp;pf_rd_r=YFTW7BR3QVEWMS79P88J&amp;ref_=pd_gw_unk&amp;pd_rd_w=3kEQ3&amp;pd_rd_r=cac640b1-d78e-471b-ae8a-90f797b57001\">See more </a>,\n",
       " <a class=\"a-link-normal\" href=\"/Flybot-Wireless-Bluetooth-Earphone-Waterproof/dp/B07Q6WSP7Q?pf_rd_p=3809ee9b-8176-496c-9034-367008fa33a9&amp;pd_rd_wg=pG5xs&amp;pf_rd_r=YFTW7BR3QVEWMS79P88J&amp;ref_=pd_gw_unk&amp;pd_rd_w=3kEQ3&amp;pd_rd_r=cac640b1-d78e-471b-ae8a-90f797b57001\"><img alt=\"Flybot Sport Deep Bass in-Ear Wireless Bluetooth Earphone with Mic, Qualcomm Chipset, IPX7 Waterproof - (Black)\" class=\"product-image\" data-a-hires=\"https://images-eu.ssl-images-amazon.com/images/I/51DKgxlG-VL._AC_SY400_.jpg\" height=\"200px\" src=\"https://images-eu.ssl-images-amazon.com/images/I/51DKgxlG-VL._AC_SY200_.jpg\"/></a>,\n",
       " <a class=\"a-link-normal\" href=\"/Xmate-Gusto-Bluetooth-Headphones-Smartphones/dp/B07Q2TL97V?pf_rd_p=3809ee9b-8176-496c-9034-367008fa33a9&amp;pd_rd_wg=pG5xs&amp;pf_rd_r=YFTW7BR3QVEWMS79P88J&amp;ref_=pd_gw_unk&amp;pd_rd_w=3kEQ3&amp;pd_rd_r=cac640b1-d78e-471b-ae8a-90f797b57001\"><img alt=\"Xmate Gusto in-Ear Touch Control True Wireless Bluetooth Headphones (TWS) with Mic - (Black)\" class=\"product-image\" data-a-hires=\"https://images-eu.ssl-images-amazon.com/images/I/61jSqYYo6YL._AC_SY400_.jpg\" height=\"200px\" src=\"https://images-eu.ssl-images-amazon.com/images/I/61jSqYYo6YL._AC_SY200_.jpg\"/></a>,\n",
       " <a class=\"a-link-normal\" href=\"/Instaplay-Wireless-Bluetooth-Soundbar-Microphone/dp/B07HY79WXP?pf_rd_p=3809ee9b-8176-496c-9034-367008fa33a9&amp;pd_rd_wg=pG5xs&amp;pf_rd_r=YFTW7BR3QVEWMS79P88J&amp;ref_=pd_gw_unk&amp;pd_rd_w=3kEQ3&amp;pd_rd_r=cac640b1-d78e-471b-ae8a-90f797b57001\"><img alt=\"Instaplay 10W Wireless Bluetooth Soundbar Speaker with Built-in Microphone (Black)\" class=\"product-image\" data-a-hires=\"https://images-eu.ssl-images-amazon.com/images/I/51uYw+h6D0L._AC_SY400_.jpg\" height=\"200px\" src=\"https://images-eu.ssl-images-amazon.com/images/I/51uYw+h6D0L._AC_SY200_.jpg\"/></a>,\n",
       " <a class=\"a-link-normal\" href=\"/Instaplay-Insta-Powerful-Bluetooth-Speaker/dp/B07QR6HK5W?pf_rd_p=3809ee9b-8176-496c-9034-367008fa33a9&amp;pd_rd_wg=pG5xs&amp;pf_rd_r=YFTW7BR3QVEWMS79P88J&amp;ref_=pd_gw_unk&amp;pd_rd_w=3kEQ3&amp;pd_rd_r=cac640b1-d78e-471b-ae8a-90f797b57001\"><img alt=\"Instaplay Insta X3 10 W Powerful Bluetooth Speaker\" class=\"product-image\" data-a-hires=\"https://images-eu.ssl-images-amazon.com/images/I/61WrictU8wL._AC_SY400_.jpg\" height=\"200px\" src=\"https://images-eu.ssl-images-amazon.com/images/I/61WrictU8wL._AC_SY200_.jpg\"/></a>,\n",
       " <a class=\"a-link-normal\" href=\"/AmazonBasics-Ear-Headphones-Mic-Red/dp/B07HH223KV?pf_rd_p=3809ee9b-8176-496c-9034-367008fa33a9&amp;pd_rd_wg=pG5xs&amp;pf_rd_r=YFTW7BR3QVEWMS79P88J&amp;ref_=pd_gw_unk&amp;pd_rd_w=3kEQ3&amp;pd_rd_r=cac640b1-d78e-471b-ae8a-90f797b57001\"><img alt=\"AmazonBasics in-Ear Headphones with Mic - Red\" class=\"product-image\" data-a-hires=\"https://images-eu.ssl-images-amazon.com/images/I/51E95U7g4tL._AC_SY400_.jpg\" height=\"200px\" src=\"https://images-eu.ssl-images-amazon.com/images/I/51E95U7g4tL._AC_SY200_.jpg\"/></a>,\n",
       " <a class=\"a-link-normal\" href=\"/Zinq-Technologies-ZQS-111-Beast-Computer/dp/B07NQNB1QC?pf_rd_p=3809ee9b-8176-496c-9034-367008fa33a9&amp;pd_rd_wg=pG5xs&amp;pf_rd_r=YFTW7BR3QVEWMS79P88J&amp;ref_=pd_gw_unk&amp;pd_rd_w=3kEQ3&amp;pd_rd_r=cac640b1-d78e-471b-ae8a-90f797b57001\"><img alt=\"Zinq Technologies Beast Portable Laptop/Desktop USB Powered Multi-Media Speaker with AUX Input (Black)\" class=\"product-image\" data-a-hires=\"https://images-eu.ssl-images-amazon.com/images/I/51EIIQZ1JUL._AC_SY400_.jpg\" height=\"200px\" src=\"https://images-eu.ssl-images-amazon.com/images/I/51EIIQZ1JUL._AC_SY200_.jpg\"/></a>,\n",
       " <a class=\"a-link-normal\" href=\"/Instaplay-Wireless-Bluetooth-Soundbar-Microphone/dp/B07HY79WXP?pf_rd_p=3809ee9b-8176-496c-9034-367008fa33a9&amp;pd_rd_wg=pG5xs&amp;pf_rd_r=YFTW7BR3QVEWMS79P88J&amp;ref_=pd_gw_unk&amp;pd_rd_w=3kEQ3&amp;pd_rd_r=cac640b1-d78e-471b-ae8a-90f797b57001\"><img alt=\"Instaplay 10W Wireless Bluetooth Soundbar Speaker with Built-in Microphone (Black)\" class=\"product-image\" data-a-hires=\"https://images-eu.ssl-images-amazon.com/images/I/51uYw+h6D0L._AC_SY400_.jpg\" height=\"200px\" src=\"https://images-eu.ssl-images-amazon.com/images/I/51uYw+h6D0L._AC_SY200_.jpg\"/></a>,\n",
       " <a aria-label=\"Carousel previous slide\" class=\"a-link-normal feed-carousel-control feed-left\" href=\"#\" tabindex=\"-1\"><span class=\"gw-icon feed-arrow\"></span></a>,\n",
       " <a aria-label=\"Carousel next slide\" class=\"a-link-normal feed-carousel-control feed-right\" href=\"#\" tabindex=\"-1\"><span class=\"gw-icon feed-arrow\"></span></a>,\n",
       " <a aria-label=\"Best Sellers in Fashion - See more \" class=\"a-link-normal\" href=\"/gp/bestsellers/apparel?pf_rd_p=79652f7f-9290-586a-ba52-7784ea4e9a2c&amp;pf_rd_r=YFTW7BR3QVEWMS79P88J&amp;pd_rd_wg=pG5xs&amp;ref_=pd_gw_ri&amp;pd_rd_w=sEnWq&amp;pd_rd_r=cac640b1-d78e-471b-ae8a-90f797b57001\">See more </a>,\n",
       " <a class=\"a-link-normal\" href=\"/Allen-Solly-Mens-Polo/dp/B07P898VNR?pf_rd_p=79652f7f-9290-586a-ba52-7784ea4e9a2c&amp;pf_rd_r=YFTW7BR3QVEWMS79P88J&amp;pd_rd_wg=pG5xs&amp;ref_=pd_gw_ri&amp;pd_rd_w=sEnWq&amp;pd_rd_r=cac640b1-d78e-471b-ae8a-90f797b57001\"><img alt=\"Allen Solly Men's Polo\" class=\"product-image\" data-a-hires=\"https://images-eu.ssl-images-amazon.com/images/I/91f9aIz-cWL._AC_SY400_.jpg\" height=\"200px\" src=\"https://images-eu.ssl-images-amazon.com/images/I/91f9aIz-cWL._AC_SY200_.jpg\"/></a>,\n",
       " <a class=\"a-link-normal\" href=\"/Alan-Jones-Clothing-Cotton-Sweatshirt/dp/B07BKPMDD1?pf_rd_p=79652f7f-9290-586a-ba52-7784ea4e9a2c&amp;pf_rd_r=YFTW7BR3QVEWMS79P88J&amp;pd_rd_wg=pG5xs&amp;ref_=pd_gw_ri&amp;pd_rd_w=sEnWq&amp;pd_rd_r=cac640b1-d78e-471b-ae8a-90f797b57001\"><img alt=\"Alan Jones Clothing Men's Cotton Hooded Sweatshirt\" class=\"product-image\" data-a-hires=\"https://images-eu.ssl-images-amazon.com/images/I/61yq5W4qEjL._AC_SY400_.jpg\" height=\"200px\" src=\"https://images-eu.ssl-images-amazon.com/images/I/61yq5W4qEjL._AC_SY200_.jpg\"/></a>,\n",
       " <a class=\"a-link-normal\" href=\"/VIMAL-JONNEY-Cotton-Sleeve-Hoodie/dp/B082Q7CMFM?pf_rd_p=79652f7f-9290-586a-ba52-7784ea4e9a2c&amp;pf_rd_r=YFTW7BR3QVEWMS79P88J&amp;pd_rd_wg=pG5xs&amp;ref_=pd_gw_ri&amp;pd_rd_w=sEnWq&amp;pd_rd_r=cac640b1-d78e-471b-ae8a-90f797b57001\"><img alt=\"VIMAL JONNEY Cotton Black Full Sleeve Hoodie Tshirt for Men\" class=\"product-image\" data-a-hires=\"https://images-eu.ssl-images-amazon.com/images/I/61WEHikgSwL._AC_SY400_.jpg\" height=\"200px\" src=\"https://images-eu.ssl-images-amazon.com/images/I/61WEHikgSwL._AC_SY200_.jpg\"/></a>,\n",
       " <a class=\"a-link-normal\" href=\"/DENIMHOLIC-Knitted-Pullover-Turtleneck-Sweater/dp/B07XBDWGKW?pf_rd_p=79652f7f-9290-586a-ba52-7784ea4e9a2c&amp;pf_rd_r=YFTW7BR3QVEWMS79P88J&amp;pd_rd_wg=pG5xs&amp;ref_=pd_gw_ri&amp;pd_rd_w=sEnWq&amp;pd_rd_r=cac640b1-d78e-471b-ae8a-90f797b57001\"><img alt=\"DENIMHOLIC Mens Ribbed Slim Fit Knitted Pullover Turtleneck Sweater\" class=\"product-image\" data-a-hires=\"https://images-eu.ssl-images-amazon.com/images/I/81GrObEak-L._AC_SY400_.jpg\" height=\"200px\" src=\"https://images-eu.ssl-images-amazon.com/images/I/81GrObEak-L._AC_SY200_.jpg\"/></a>,\n",
       " <a class=\"a-link-normal\" href=\"/GOODTRY-Womens-Cotton-Hoodies-Black/dp/B01ANEW438?pf_rd_p=79652f7f-9290-586a-ba52-7784ea4e9a2c&amp;pf_rd_r=YFTW7BR3QVEWMS79P88J&amp;pd_rd_wg=pG5xs&amp;ref_=pd_gw_ri&amp;pd_rd_w=sEnWq&amp;pd_rd_r=cac640b1-d78e-471b-ae8a-90f797b57001\"><img alt=\"GOODTRY Women's Cotton Hoodies-Black\" class=\"product-image\" data-a-hires=\"https://images-eu.ssl-images-amazon.com/images/I/61F4gCMxeJL._AC_SY400_.jpg\" height=\"200px\" src=\"https://images-eu.ssl-images-amazon.com/images/I/61F4gCMxeJL._AC_SY200_.jpg\"/></a>,\n",
       " <a class=\"a-link-normal\" href=\"/Handcuffs-2-Pieces-Winter-Beanie-Fleece/dp/B07MHGJR2Z?pf_rd_p=79652f7f-9290-586a-ba52-7784ea4e9a2c&amp;pf_rd_r=YFTW7BR3QVEWMS79P88J&amp;pd_rd_wg=pG5xs&amp;ref_=pd_gw_ri&amp;pd_rd_w=sEnWq&amp;pd_rd_r=cac640b1-d78e-471b-ae8a-90f797b57001\"><img alt=\"Handcuffs 2-Pieces Winter Beanie Hat Scarf Set Warm Knit Hat Thick Fleece Lined Winter Hat &amp; Scarf for Men Women\" class=\"product-image\" data-a-hires=\"https://images-eu.ssl-images-amazon.com/images/I/51WliPbgIeL._AC_SY400_.jpg\" height=\"200px\" src=\"https://images-eu.ssl-images-amazon.com/images/I/51WliPbgIeL._AC_SY200_.jpg\"/></a>,\n",
       " <a class=\"a-link-normal\" href=\"/Alan-Jones-Clothing-Womens-Sweatshirt/dp/B075ZQB92N?pf_rd_p=79652f7f-9290-586a-ba52-7784ea4e9a2c&amp;pf_rd_r=YFTW7BR3QVEWMS79P88J&amp;pd_rd_wg=pG5xs&amp;ref_=pd_gw_ri&amp;pd_rd_w=sEnWq&amp;pd_rd_r=cac640b1-d78e-471b-ae8a-90f797b57001\"><img alt=\"Alan Jones Clothing Women's Cotton Sweatshirt\" class=\"product-image\" data-a-hires=\"https://images-eu.ssl-images-amazon.com/images/I/61icbgcWYML._AC_SY400_.jpg\" height=\"200px\" src=\"https://images-eu.ssl-images-amazon.com/images/I/61icbgcWYML._AC_SY200_.jpg\"/></a>,\n",
       " <a aria-label=\"Carousel previous slide\" class=\"a-link-normal feed-carousel-control feed-left\" href=\"#\" tabindex=\"-1\"><span class=\"gw-icon feed-arrow\"></span></a>,\n",
       " <a aria-label=\"Carousel next slide\" class=\"a-link-normal feed-carousel-control feed-right\" href=\"#\" tabindex=\"-1\"><span class=\"gw-icon feed-arrow\"></span></a>,\n",
       " <a class=\"a-link-normal center-image aok-block image-window\" href=\"/b?node=5689361031&amp;pf_rd_p=b56cd8c2-4eff-4a3a-b0c7-1fa6357f570c&amp;pf_rd_r=YFTW7BR3QVEWMS79P88J\"><div class=\"a-section a-spacing-none fluid-image-container\"><img alt=\"No cost EMI starting ₹825/month\" class=\"landscape-image\" data-a-hires=\"https://images-eu.ssl-images-amazon.com/images/G/31/IMG19/Furniture/MSO/PC/furniture_MSO_758x608._SY608_CB447481574_.jpg\" src=\"https://images-eu.ssl-images-amazon.com/images/G/31/IMG19/Furniture/MSO/PC/furniture_MSO__379x304._SY304_CB447481574_.jpg\"/></div></a>,\n",
       " <a class=\"a-link-normal see-more truncate-1line\" href=\"/b?node=5689361031&amp;pf_rd_p=b56cd8c2-4eff-4a3a-b0c7-1fa6357f570c&amp;pf_rd_r=YFTW7BR3QVEWMS79P88J\">See more</a>,\n",
       " <a class=\"a-link-normal center-image aok-block image-window\" href=\"/b?node=1375443031&amp;pf_rd_p=36680af0-be5d-4917-bc49-50f61406ca83&amp;pf_rd_r=YFTW7BR3QVEWMS79P88J\"><div class=\"a-section a-spacing-none fluid-image-container\"><img alt=\"Deals on printers\" class=\"landscape-image\" data-a-hires=\"https://images-eu.ssl-images-amazon.com/images/G/31/img19/Printers/GW/V154614354_IN_Printers_OP_resizing_GW_Nov19_rush_printer4._SY608_CB444956051_.jpg\" src=\"https://images-eu.ssl-images-amazon.com/images/G/31/img19/Printers/GW/V154614354_IN_Printers_OP_resizing_GW_Nov19_rush_printer3._SY304_CB444956051_.jpg\"/></div></a>,\n",
       " <a class=\"a-link-normal see-more truncate-1line\" href=\"/b?node=1375443031&amp;pf_rd_p=36680af0-be5d-4917-bc49-50f61406ca83&amp;pf_rd_r=YFTW7BR3QVEWMS79P88J\">See more</a>,\n",
       " <a class=\"a-link-normal center-image aok-block image-window\" href=\"/b?node=17432892031&amp;pf_rd_p=7b85e5c8-3c92-4a7b-b2ef-b742efcc9b9c&amp;pf_rd_r=YFTW7BR3QVEWMS79P88J\"><div class=\"a-section a-spacing-none fluid-image-container\"><img alt=\"Mirrorless cameras\" class=\"landscape-image\" data-a-hires=\"https://images-eu.ssl-images-amazon.com/images/G/31/img19/Cameras/Gateway/Sony_Cat_Card_2X._SY608_CB448539687_.jpg\" src=\"https://images-eu.ssl-images-amazon.com/images/G/31/img19/Cameras/Gateway/Sony_Cat_Card_1x._SY304_CB448539687_.jpg\"/></div></a>,\n",
       " <a class=\"a-link-normal see-more truncate-1line\" href=\"/b?node=1388977031&amp;pf_rd_p=7b85e5c8-3c92-4a7b-b2ef-b742efcc9b9c&amp;pf_rd_r=YFTW7BR3QVEWMS79P88J\">See more</a>,\n",
       " <a class=\"a-link-normal center-image aok-block image-window\" href=\"/b?node=1375248031&amp;pf_rd_p=f7c5e832-3a2e-47d5-8bf4-ac2ca47af54f&amp;pf_rd_r=YFTW7BR3QVEWMS79P88J\"><div class=\"a-section a-spacing-none fluid-image-container\"><img alt=\"PC accessories\" class=\"landscape-image\" data-a-hires=\"https://images-eu.ssl-images-amazon.com/images/G/31/img19/2019/PC/Storage/DesktopDashboard/Mouse-2x._SY608_CB446724187_.jpg\" src=\"https://images-eu.ssl-images-amazon.com/images/G/31/img19/2019/PC/Storage/DesktopDashboard/Mouse-1X._SY304_CB446724184_.jpg\"/></div></a>,\n",
       " <a class=\"a-link-normal see-more truncate-1line\" href=\"/b?node=1375248031&amp;pf_rd_p=f7c5e832-3a2e-47d5-8bf4-ac2ca47af54f&amp;pf_rd_r=YFTW7BR3QVEWMS79P88J\">Explore all</a>,\n",
       " <a aria-label=\"Up to 50% off home essentials | Amazon Brands &amp; more - See more \" class=\"a-link-normal\" href=\"/b?node=16368877031&amp;pf_rd_p=d23f0eef-354b-4550-8200-0026a33bdcbf&amp;pd_rd_wg=pG5xs&amp;pf_rd_r=YFTW7BR3QVEWMS79P88J&amp;ref_=pd_gw_unk&amp;pd_rd_w=UfM4a&amp;pd_rd_r=cac640b1-d78e-471b-ae8a-90f797b57001\">See more </a>,\n",
       " <a class=\"a-link-normal\" href=\"/Amazon-Brand-Microfibre-Reversible-Comforter/dp/B01LTI1KFU?pf_rd_p=d23f0eef-354b-4550-8200-0026a33bdcbf&amp;pd_rd_wg=pG5xs&amp;pf_rd_r=YFTW7BR3QVEWMS79P88J&amp;ref_=pd_gw_unk&amp;pd_rd_w=UfM4a&amp;pd_rd_r=cac640b1-d78e-471b-ae8a-90f797b57001\"><img alt=\"Amazon Brand - Solimo Microfibre Reversible Comforter, Double (Aqua Blue &amp; Olive Green, 200 GSM)\" class=\"product-image\" data-a-hires=\"https://images-eu.ssl-images-amazon.com/images/I/81Vzm0NAr8L._AC_SY400_.jpg\" height=\"200px\" src=\"https://images-eu.ssl-images-amazon.com/images/I/81Vzm0NAr8L._AC_SY200_.jpg\"/></a>,\n",
       " <a class=\"a-link-normal\" href=\"/Amazon-Brand-Solimo-Cotton-Bedsheet/dp/B06Y55KBRT?pf_rd_p=d23f0eef-354b-4550-8200-0026a33bdcbf&amp;pd_rd_wg=pG5xs&amp;pf_rd_r=YFTW7BR3QVEWMS79P88J&amp;ref_=pd_gw_unk&amp;pd_rd_w=UfM4a&amp;pd_rd_r=cac640b1-d78e-471b-ae8a-90f797b57001\"><img alt=\"Amazon Brand - Solimo Lily Bloom 144 TC 100% Cotton Double Bedsheet with 2 Pillow Covers, Green\" class=\"product-image\" data-a-hires=\"https://images-eu.ssl-images-amazon.com/images/I/91WpPGL-YmL._AC_SY400_.jpg\" height=\"200px\" src=\"https://images-eu.ssl-images-amazon.com/images/I/91WpPGL-YmL._AC_SY200_.jpg\"/></a>,\n",
       " <a class=\"a-link-normal\" href=\"/Amazon-Brand-Solimo-2-Piece-Pillow/dp/B01L94IXXG?pf_rd_p=d23f0eef-354b-4550-8200-0026a33bdcbf&amp;pd_rd_wg=pG5xs&amp;pf_rd_r=YFTW7BR3QVEWMS79P88J&amp;ref_=pd_gw_unk&amp;pd_rd_w=UfM4a&amp;pd_rd_r=cac640b1-d78e-471b-ae8a-90f797b57001\"><img alt=\"Amazon Brand - Solimo 2-Piece Ultra Soft Bed Pillow Set - 43 x 69 cm, White\" class=\"product-image\" data-a-hires=\"https://images-eu.ssl-images-amazon.com/images/I/71sxuYOus7L._AC_SY400_.jpg\" height=\"200px\" src=\"https://images-eu.ssl-images-amazon.com/images/I/71sxuYOus7L._AC_SY200_.jpg\"/></a>,\n",
       " <a class=\"a-link-normal\" href=\"/Amazon-Brand-Microfibre-Reversible-Comforter/dp/B06Y5QJNVY?pf_rd_p=d23f0eef-354b-4550-8200-0026a33bdcbf&amp;pd_rd_wg=pG5xs&amp;pf_rd_r=YFTW7BR3QVEWMS79P88J&amp;ref_=pd_gw_unk&amp;pd_rd_w=UfM4a&amp;pd_rd_r=cac640b1-d78e-471b-ae8a-90f797b57001\"><img alt=\"Amazon Brand - Solimo Microfibre Reversible Comforter, Single (Vivid Pink &amp; Majestic Purple, 200 GSM)\" class=\"product-image\" data-a-hires=\"https://images-eu.ssl-images-amazon.com/images/I/71HJha1WifL._AC_SY400_.jpg\" height=\"200px\" src=\"https://images-eu.ssl-images-amazon.com/images/I/71HJha1WifL._AC_SY200_.jpg\"/></a>,\n",
       " <a class=\"a-link-normal\" href=\"/Amazon-Brand-Waterproof-Mattress-Protector/dp/B07GZRV5RL?pf_rd_p=d23f0eef-354b-4550-8200-0026a33bdcbf&amp;pd_rd_wg=pG5xs&amp;pf_rd_r=YFTW7BR3QVEWMS79P88J&amp;ref_=pd_gw_unk&amp;pd_rd_w=UfM4a&amp;pd_rd_r=cac640b1-d78e-471b-ae8a-90f797b57001\"><img alt=\"Amazon Brand - Solimo Waterproof Terry Cotton Mattress Protector, 78x72 inches, King Size (White)\" class=\"product-image\" data-a-hires=\"https://images-eu.ssl-images-amazon.com/images/I/811cqF6AhLL._AC_SY400_.jpg\" height=\"200px\" src=\"https://images-eu.ssl-images-amazon.com/images/I/811cqF6AhLL._AC_SY200_.jpg\"/></a>,\n",
       " <a class=\"a-link-normal\" href=\"/Amazon-Brand-Solimo-Collage-Hanging/dp/B076VGMFSF?pf_rd_p=d23f0eef-354b-4550-8200-0026a33bdcbf&amp;pd_rd_wg=pG5xs&amp;pf_rd_r=YFTW7BR3QVEWMS79P88J&amp;ref_=pd_gw_unk&amp;pd_rd_w=UfM4a&amp;pd_rd_r=cac640b1-d78e-471b-ae8a-90f797b57001\"><img alt=\"Amazon Brand - Solimo Collage Photo Frames (Set of 6, Wall Hanging),Black\" class=\"product-image\" data-a-hires=\"https://images-eu.ssl-images-amazon.com/images/I/71n+5leh0aL._AC_SY400_.jpg\" height=\"200px\" src=\"https://images-eu.ssl-images-amazon.com/images/I/71n+5leh0aL._AC_SY200_.jpg\"/></a>,\n",
       " <a class=\"a-link-normal\" href=\"/Amazon-Brand-12-inch-Roulette-Movement/dp/B076VF43GG?pf_rd_p=d23f0eef-354b-4550-8200-0026a33bdcbf&amp;pd_rd_wg=pG5xs&amp;pf_rd_r=YFTW7BR3QVEWMS79P88J&amp;ref_=pd_gw_unk&amp;pd_rd_w=UfM4a&amp;pd_rd_r=cac640b1-d78e-471b-ae8a-90f797b57001\"><img alt=\"Amazon Brand - Solimo 12-inch Wall Clock - Classic Roulette (Silent Movement, Black Frame)\" class=\"product-image\" data-a-hires=\"https://images-eu.ssl-images-amazon.com/images/I/81XEPquUw3L._AC_SY400_.jpg\" height=\"200px\" src=\"https://images-eu.ssl-images-amazon.com/images/I/81XEPquUw3L._AC_SY200_.jpg\"/></a>,\n",
       " <a aria-label=\"Carousel previous slide\" class=\"a-link-normal feed-carousel-control feed-left\" href=\"#\" tabindex=\"-1\"><span class=\"gw-icon feed-arrow\"></span></a>,\n",
       " <a aria-label=\"Carousel next slide\" class=\"a-link-normal feed-carousel-control feed-right\" href=\"#\" tabindex=\"-1\"><span class=\"gw-icon feed-arrow\"></span></a>,\n",
       " <a aria-label=\"Up to 50% off travel gear | Amazon Brands &amp; more - See more \" class=\"a-link-normal\" href=\"/b?node=15429566031&amp;pf_rd_p=8693239b-4527-441d-b765-55044c01028e&amp;pd_rd_wg=pG5xs&amp;pf_rd_r=YFTW7BR3QVEWMS79P88J&amp;ref_=pd_gw_unk&amp;pd_rd_w=6rzMH&amp;pd_rd_r=cac640b1-d78e-471b-ae8a-90f797b57001\">See more </a>,\n",
       " <a class=\"a-link-normal\" href=\"/AmazonBasics-Softside-Suitcase-Wheels-53-3/dp/B0711KX7HQ?pf_rd_p=8693239b-4527-441d-b765-55044c01028e&amp;pd_rd_wg=pG5xs&amp;pf_rd_r=YFTW7BR3QVEWMS79P88J&amp;ref_=pd_gw_unk&amp;pd_rd_w=6rzMH&amp;pd_rd_r=cac640b1-d78e-471b-ae8a-90f797b57001\"><img alt=\"AmazonBasics Set of 3 (53 cm + 64 cm + 74 cm) Navy Blue Softsided Trolleys\" class=\"product-image\" data-a-hires=\"https://images-eu.ssl-images-amazon.com/images/I/915zpRm7a1L._AC_SY400_.jpg\" height=\"200px\" src=\"https://images-eu.ssl-images-amazon.com/images/I/915zpRm7a1L._AC_SY200_.jpg\"/></a>,\n",
       " <a class=\"a-link-normal\" href=\"/AmazonBasics-Hardside-Suitcase-Wheels-50-8/dp/B0713ZQG8K?pf_rd_p=8693239b-4527-441d-b765-55044c01028e&amp;pd_rd_wg=pG5xs&amp;pf_rd_r=YFTW7BR3QVEWMS79P88J&amp;ref_=pd_gw_unk&amp;pd_rd_w=6rzMH&amp;pd_rd_r=cac640b1-d78e-471b-ae8a-90f797b57001\"><img alt=\"AmazonBasics Set of 3 (55 cm + 68 cm + 78 cm) Navy Blue Hardsided Trolley\" class=\"product-image\" data-a-hires=\"https://images-eu.ssl-images-amazon.com/images/I/91h8+vKtfSL._AC_SY400_.jpg\" height=\"200px\" src=\"https://images-eu.ssl-images-amazon.com/images/I/91h8+vKtfSL._AC_SY200_.jpg\"/></a>,\n",
       " <a class=\"a-link-normal\" href=\"/AmazonBasics-Automatic-Travel-Umbrella-Wind/dp/B00WTHJ5SU?pf_rd_p=8693239b-4527-441d-b765-55044c01028e&amp;pd_rd_wg=pG5xs&amp;pf_rd_r=YFTW7BR3QVEWMS79P88J&amp;ref_=pd_gw_unk&amp;pd_rd_w=6rzMH&amp;pd_rd_r=cac640b1-d78e-471b-ae8a-90f797b57001\"><img alt=\"AmazonBasics Umbrella with Wind Vent (Auto-Open &amp; Close Function) - Black\" class=\"product-image\" data-a-hires=\"https://images-eu.ssl-images-amazon.com/images/I/61DSVCxf8CL._AC_SY400_.jpg\" height=\"200px\" src=\"https://images-eu.ssl-images-amazon.com/images/I/61DSVCxf8CL._AC_SY200_.jpg\"/></a>,\n",
       " <a class=\"a-link-normal\" href=\"/AmazonBasics-Hardside-Suitcase-Wheels-Orange/dp/B071DXB6DY?pf_rd_p=8693239b-4527-441d-b765-55044c01028e&amp;pd_rd_wg=pG5xs&amp;pf_rd_r=YFTW7BR3QVEWMS79P88J&amp;ref_=pd_gw_unk&amp;pd_rd_w=6rzMH&amp;pd_rd_r=cac640b1-d78e-471b-ae8a-90f797b57001\"><img alt=\"AmazonBasics 78 cm Burnt Orange Hardsided Check-in Trolley\" class=\"product-image\" data-a-hires=\"https://images-eu.ssl-images-amazon.com/images/I/913fpd6ODnL._AC_SY400_.jpg\" height=\"200px\" src=\"https://images-eu.ssl-images-amazon.com/images/I/913fpd6ODnL._AC_SY200_.jpg\"/></a>,\n",
       " <a class=\"a-link-normal\" href=\"/AmazonBasics-21-Ltrs-Classic-Backpack/dp/B013TGESIQ?pf_rd_p=8693239b-4527-441d-b765-55044c01028e&amp;pd_rd_wg=pG5xs&amp;pf_rd_r=YFTW7BR3QVEWMS79P88J&amp;ref_=pd_gw_unk&amp;pd_rd_w=6rzMH&amp;pd_rd_r=cac640b1-d78e-471b-ae8a-90f797b57001\"><img alt=\"AmazonBasics 21 Ltrs Classic Backpack - Grey\" class=\"product-image\" data-a-hires=\"https://images-eu.ssl-images-amazon.com/images/I/91hiB2f76bL._AC_SY400_.jpg\" height=\"200px\" src=\"https://images-eu.ssl-images-amazon.com/images/I/91hiB2f76bL._AC_SY200_.jpg\"/></a>,\n",
       " <a class=\"a-link-normal\" href=\"/AmazonBasics-Packing-Cubes-Travel-Organizer/dp/B014VBIEZQ?pf_rd_p=8693239b-4527-441d-b765-55044c01028e&amp;pd_rd_wg=pG5xs&amp;pf_rd_r=YFTW7BR3QVEWMS79P88J&amp;ref_=pd_gw_unk&amp;pd_rd_w=6rzMH&amp;pd_rd_r=cac640b1-d78e-471b-ae8a-90f797b57001\"><img alt=\"AmazonBasics Packing Cubes/Travel Pouch/Travel Organizer - Small, Medium, Large, and Slim, Grey (4-Piece Set)\" class=\"product-image\" data-a-hires=\"https://images-eu.ssl-images-amazon.com/images/I/816zfIkvO3L._AC_SY400_.jpg\" height=\"200px\" src=\"https://images-eu.ssl-images-amazon.com/images/I/816zfIkvO3L._AC_SY200_.jpg\"/></a>,\n",
       " <a class=\"a-link-normal\" href=\"/AmazonBasics-Hardsided-Trolley-Extreme-Resistance/dp/B07FNJXDJ8?pf_rd_p=8693239b-4527-441d-b765-55044c01028e&amp;pd_rd_wg=pG5xs&amp;pf_rd_r=YFTW7BR3QVEWMS79P88J&amp;ref_=pd_gw_unk&amp;pd_rd_w=6rzMH&amp;pd_rd_r=cac640b1-d78e-471b-ae8a-90f797b57001\"><img alt=\"AmazonBasics Vienna 68 cm Navy Blue Hardsided Check-in Trolley with Extreme Scratch Resistance.\" class=\"product-image\" data-a-hires=\"https://images-eu.ssl-images-amazon.com/images/I/91TMlDWXt3L._AC_SY400_.jpg\" height=\"200px\" src=\"https://images-eu.ssl-images-amazon.com/images/I/91TMlDWXt3L._AC_SY200_.jpg\"/></a>,\n",
       " <a aria-label=\"Carousel previous slide\" class=\"a-link-normal feed-carousel-control feed-left\" href=\"#\" tabindex=\"-1\"><span class=\"gw-icon feed-arrow\"></span></a>,\n",
       " <a aria-label=\"Carousel next slide\" class=\"a-link-normal feed-carousel-control feed-right\" href=\"#\" tabindex=\"-1\"><span class=\"gw-icon feed-arrow\"></span></a>,\n",
       " <a aria-label=\"Dog supplies\" class=\"a-link-normal image-redirect aok-block image-window\" href=\"/b?node=4771342031&amp;pf_rd_p=42d7ec26-3339-4d2d-a029-0d3b6ad126cb&amp;pf_rd_r=YFTW7BR3QVEWMS79P88J\"><div class=\"a-section a-spacing-none fluid-image-container\"><img alt=\"Dog supplies\" class=\"landscape-image\" data-a-hires=\"https://images-eu.ssl-images-amazon.com/images/G/31/img19/Pets/GW/Desktop/Desktop_QC_Dogs_2X._SY232_CB448750760_.jpg\" src=\"https://images-eu.ssl-images-amazon.com/images/G/31/img19/Pets/GW/Desktop/Desktop_QC_Dogs_1X._SY116_CB448750761_.jpg\"/></div><div class=\"a-section a-spacing-none image-label truncate-2line\"><span class=\"a-size-small a-color-base aok-align-center aok-inline-block\">Dog supplies</span></div></a>,\n",
       " <a aria-label=\"Cat supplies\" class=\"a-link-normal image-redirect aok-block image-window\" href=\"/b?node=4771341031&amp;pf_rd_p=42d7ec26-3339-4d2d-a029-0d3b6ad126cb&amp;pf_rd_r=YFTW7BR3QVEWMS79P88J\"><div class=\"a-section a-spacing-none fluid-image-container\"><img alt=\"Cat supplies\" class=\"landscape-image\" data-a-hires=\"https://images-eu.ssl-images-amazon.com/images/G/31/img19/Pets/GW/Desktop/Desktop_QC_Cats_2X._SY232_CB448750760_.jpg\" src=\"https://images-eu.ssl-images-amazon.com/images/G/31/img19/Pets/GW/Desktop/Desktop_QC_Cats_1X._SY116_CB448750761_.jpg\"/></div><div class=\"a-section a-spacing-none image-label truncate-2line\"><span class=\"a-size-small a-color-base aok-align-center aok-inline-block\">Cat supplies</span></div></a>,\n",
       " <a aria-label=\"Aquatics supplies\" class=\"a-link-normal image-redirect aok-block image-window\" href=\"/b?node=4771339031&amp;pf_rd_p=42d7ec26-3339-4d2d-a029-0d3b6ad126cb&amp;pf_rd_r=YFTW7BR3QVEWMS79P88J\"><div class=\"a-section a-spacing-none fluid-image-container\"><img alt=\"Aquatics supplies\" class=\"landscape-image\" data-a-hires=\"https://images-eu.ssl-images-amazon.com/images/G/31/img19/Pets/GW/Desktop/Desktop_QC_Aquatics_2X._SY232_CB448750761_.jpg\" src=\"https://images-eu.ssl-images-amazon.com/images/G/31/img19/Pets/GW/Desktop/Desktop_QC_Aquatics_1X._SY116_CB448750760_.jpg\"/></div><div class=\"a-section a-spacing-none image-label truncate-2line\"><span class=\"a-size-small a-color-base aok-align-center aok-inline-block\">Aquatics supplies</span></div></a>,\n",
       " <a aria-label=\"Bird supplies\" class=\"a-link-normal image-redirect aok-block image-window\" href=\"/b?node=4771340031&amp;pf_rd_p=42d7ec26-3339-4d2d-a029-0d3b6ad126cb&amp;pf_rd_r=YFTW7BR3QVEWMS79P88J\"><div class=\"a-section a-spacing-none fluid-image-container\"><img alt=\"Bird supplies\" class=\"landscape-image\" data-a-hires=\"https://images-eu.ssl-images-amazon.com/images/G/31/img19/Pets/GW/Desktop/Desktop_QC_Birds_2X._SY232_CB448750760_.jpg\" src=\"https://images-eu.ssl-images-amazon.com/images/G/31/img19/Pets/GW/Desktop/Desktop_QC_Birds_1X._SY116_CB448750760_.jpg\"/></div><div class=\"a-section a-spacing-none image-label truncate-2line\"><span class=\"a-size-small a-color-base aok-align-center aok-inline-block\">Bird supplies</span></div></a>,\n",
       " <a aria-label=\"For your pets - See more\" class=\"a-link-normal see-more truncate-1line\" href=\"/b?node=2454181031&amp;pf_rd_p=42d7ec26-3339-4d2d-a029-0d3b6ad126cb&amp;pf_rd_r=YFTW7BR3QVEWMS79P88J\">See more</a>,\n",
       " <a class=\"a-link-normal center-image aok-block image-window\" href=\"/b?node=1380374031&amp;pf_rd_p=0357835e-61e1-4b94-bbbf-28b21568e354&amp;pf_rd_r=YFTW7BR3QVEWMS79P88J\"><div class=\"a-section a-spacing-none fluid-image-container\"><img alt=\"Home\" class=\"landscape-image\" data-a-hires=\"https://images-eu.ssl-images-amazon.com/images/G/31/IMG19/Home/bau/GW/XCM_CUTTLE_758x608_1200224_d1f91e90_07b5_44f5_90ee_07bfb2b09e0a_png._SY608_CB448746554_.png\" src=\"https://images-eu.ssl-images-amazon.com/images/G/31/IMG19/Home/bau/GW/XCM_CUTTLE_758x608_1200224_d1f91e90_07b5_44f5_90ee_07bfb2b09e0a_png._SY304_CB448746554_.png\"/></div></a>,\n",
       " <a class=\"a-link-normal see-more truncate-1line\" href=\"/b?node=1380374031&amp;pf_rd_p=0357835e-61e1-4b94-bbbf-28b21568e354&amp;pf_rd_r=YFTW7BR3QVEWMS79P88J\">See more</a>,\n",
       " <a class=\"a-link-normal center-image aok-block image-window\" href=\"/b?node=12597663031&amp;pf_rd_p=90515aec-5a83-4468-8c88-478880132af7&amp;pf_rd_r=YFTW7BR3QVEWMS79P88J\"><div class=\"a-section a-spacing-none fluid-image-container\"><img alt=\"Home\" class=\"landscape-image\" data-a-hires=\"https://images-eu.ssl-images-amazon.com/images/G/31/img19/OHL/Dec2019_GW/XCM_Manual_PC_QC_785x605_1575558979._SY608_CB446391434_.jpg\" src=\"https://images-eu.ssl-images-amazon.com/images/G/31/img19/OHL/Dec2019_GW/XCM_Manual_PC_QC_379x-304_1575558979._SY304_CB446391434_.jpg\"/></div></a>,\n",
       " <a class=\"a-link-normal see-more truncate-1line\" href=\"/b?node=12597663031&amp;pf_rd_p=90515aec-5a83-4468-8c88-478880132af7&amp;pf_rd_r=YFTW7BR3QVEWMS79P88J\">See more</a>,\n",
       " <a class=\"a-link-normal center-image aok-block image-window\" href=\"/b?node=16136910031&amp;pf_rd_p=bfc4be20-d809-4694-92ef-e562957aafb1&amp;pf_rd_r=YFTW7BR3QVEWMS79P88J\"><div class=\"a-section a-spacing-none fluid-image-container\"><img alt=\"Casio\" class=\"landscape-image\" data-a-hires=\"https://images-eu.ssl-images-amazon.com/images/G/31/img19/MI/Casio/CT-S/V154355224_IN_CEMI_Casiotone_RUSH_758X608_2X._SY608_CB446748811_.jpg\" src=\"https://images-eu.ssl-images-amazon.com/images/G/31/img19/MI/Casio/CT-S/V154355224_IN_CEMI_Casiotone_RUSH_379X304_1X._SY304_CB446748811_.jpg\"/></div></a>,\n",
       " <a class=\"a-link-normal see-more truncate-1line\" href=\"/b?node=16136910031&amp;pf_rd_p=bfc4be20-d809-4694-92ef-e562957aafb1&amp;pf_rd_r=YFTW7BR3QVEWMS79P88J\">See more</a>,\n",
       " <a aria-label=\"Up to 50% off  home appliances &amp; kitchen products | Amazon Brands &amp; more - See more \" class=\"a-link-normal\" href=\"/b?node=16692168031&amp;pf_rd_p=a92fc642-a285-445c-b1b8-f3d52194d3fe&amp;pd_rd_wg=pG5xs&amp;pf_rd_r=YFTW7BR3QVEWMS79P88J&amp;ref_=pd_gw_unk&amp;pd_rd_w=A4xCr&amp;pd_rd_r=cac640b1-d78e-471b-ae8a-90f797b57001\">See more </a>,\n",
       " <a class=\"a-link-normal\" href=\"/Amazon-Brand-Solimo-Checkered-Airtight/dp/B07FXT5HBD?pf_rd_p=a92fc642-a285-445c-b1b8-f3d52194d3fe&amp;pd_rd_wg=pG5xs&amp;pf_rd_r=YFTW7BR3QVEWMS79P88J&amp;ref_=pd_gw_unk&amp;pd_rd_w=A4xCr&amp;pd_rd_r=cac640b1-d78e-471b-ae8a-90f797b57001\"><img alt=\"Amazon Brand - Solimo Checkered Jar Set of 18\" class=\"product-image\" data-a-hires=\"https://images-eu.ssl-images-amazon.com/images/I/91v-bvsLAxL._AC_SY400_.jpg\" height=\"200px\" src=\"https://images-eu.ssl-images-amazon.com/images/I/91v-bvsLAxL._AC_SY200_.jpg\"/></a>,\n",
       " <a class=\"a-link-normal\" href=\"/AmazonBasics-VCB35B15C-1-5-Litre-Vacuum-Cleaner/dp/B07H3X5GTL?pf_rd_p=a92fc642-a285-445c-b1b8-f3d52194d3fe&amp;pd_rd_wg=pG5xs&amp;pf_rd_r=YFTW7BR3QVEWMS79P88J&amp;ref_=pd_gw_unk&amp;pd_rd_w=A4xCr&amp;pd_rd_r=cac640b1-d78e-471b-ae8a-90f797b57001\"><img alt=\"AmazonBasics Vacuum Cleaner with Power Suction, Low Sound, High Energy Efficiency and 2 Years Warranty (1.5L Reusable...\" class=\"product-image\" data-a-hires=\"https://images-eu.ssl-images-amazon.com/images/I/81jN--SwgEL._AC_SY400_.jpg\" height=\"200px\" src=\"https://images-eu.ssl-images-amazon.com/images/I/81jN--SwgEL._AC_SY200_.jpg\"/></a>,\n",
       " <a class=\"a-link-normal\" href=\"/Amazon-Brand-Solimo-1200mm-Ceiling/dp/B079Y54D5K?pf_rd_p=a92fc642-a285-445c-b1b8-f3d52194d3fe&amp;pd_rd_wg=pG5xs&amp;pf_rd_r=YFTW7BR3QVEWMS79P88J&amp;ref_=pd_gw_unk&amp;pd_rd_w=A4xCr&amp;pd_rd_r=cac640b1-d78e-471b-ae8a-90f797b57001\"><img alt=\"Amazon Brand - Solimo Swirl 1200mm Ceiling Fan (Brown)\" class=\"product-image\" data-a-hires=\"https://images-eu.ssl-images-amazon.com/images/I/61Bc9z7xQ+L._AC_SY400_.jpg\" height=\"200px\" src=\"https://images-eu.ssl-images-amazon.com/images/I/61Bc9z7xQ+L._AC_SY200_.jpg\"/></a>,\n",
       " <a class=\"a-link-normal\" href=\"/AmazonBasics-8-Piece-Non-Stick-Cookware-Set/dp/B074817DK1?pf_rd_p=a92fc642-a285-445c-b1b8-f3d52194d3fe&amp;pd_rd_wg=pG5xs&amp;pf_rd_r=YFTW7BR3QVEWMS79P88J&amp;ref_=pd_gw_unk&amp;pd_rd_w=A4xCr&amp;pd_rd_r=cac640b1-d78e-471b-ae8a-90f797b57001\"><img alt=\"AmazonBasics 8-Piece Non-Stick Cookware Set\" class=\"product-image\" data-a-hires=\"https://images-eu.ssl-images-amazon.com/images/I/715qOOqdKNL._AC_SY400_.jpg\" height=\"200px\" src=\"https://images-eu.ssl-images-amazon.com/images/I/715qOOqdKNL._AC_SY200_.jpg\"/></a>,\n",
       " <a class=\"a-link-normal\" href=\"/Amazon-Brand-Plastic-Checkered-Multicolour/dp/B07P7ZWQMZ?pf_rd_p=a92fc642-a285-445c-b1b8-f3d52194d3fe&amp;pd_rd_wg=pG5xs&amp;pf_rd_r=YFTW7BR3QVEWMS79P88J&amp;ref_=pd_gw_unk&amp;pd_rd_w=A4xCr&amp;pd_rd_r=cac640b1-d78e-471b-ae8a-90f797b57001\"><img alt=\"Amazon Brand – Solimo Plastic Fridge Bottle Set (6 pieces, 1L, Checkered pattern, Multicolour)\" class=\"product-image\" data-a-hires=\"https://images-eu.ssl-images-amazon.com/images/I/91LvKER5jhL._AC_SY400_.jpg\" height=\"200px\" src=\"https://images-eu.ssl-images-amazon.com/images/I/91LvKER5jhL._AC_SY200_.jpg\"/></a>,\n",
       " <a class=\"a-link-normal\" href=\"/Amazon-Brand-Solimo-1200mm-Ceiling/dp/B079Y69BTK?pf_rd_p=a92fc642-a285-445c-b1b8-f3d52194d3fe&amp;pd_rd_wg=pG5xs&amp;pf_rd_r=YFTW7BR3QVEWMS79P88J&amp;ref_=pd_gw_unk&amp;pd_rd_w=A4xCr&amp;pd_rd_r=cac640b1-d78e-471b-ae8a-90f797b57001\"><img alt=\"Amazon Brand - Solimo Swirl 1200mm Ceiling Fan (Ivory)\" class=\"product-image\" data-a-hires=\"https://images-eu.ssl-images-amazon.com/images/I/5113-1Xyi3L._AC_SY400_.jpg\" height=\"200px\" src=\"https://images-eu.ssl-images-amazon.com/images/I/5113-1Xyi3L._AC_SY200_.jpg\"/></a>,\n",
       " <a class=\"a-link-normal\" href=\"/Solimo-Plastic-Container-15-Pieces-Silver/dp/B07HCLTFRN?pf_rd_p=a92fc642-a285-445c-b1b8-f3d52194d3fe&amp;pd_rd_wg=pG5xs&amp;pf_rd_r=YFTW7BR3QVEWMS79P88J&amp;ref_=pd_gw_unk&amp;pd_rd_w=A4xCr&amp;pd_rd_r=cac640b1-d78e-471b-ae8a-90f797b57001\"><img alt=\"Amazon Brand - Solimo Plastic Container Set, 15-Pieces, Silver with Stainless Steel Lid &amp; Wide Mouth\" class=\"product-image\" data-a-hires=\"https://images-eu.ssl-images-amazon.com/images/I/91Hffht29zL._AC_SY400_.jpg\" height=\"200px\" src=\"https://images-eu.ssl-images-amazon.com/images/I/91Hffht29zL._AC_SY200_.jpg\"/></a>,\n",
       " <a aria-label=\"Carousel previous slide\" class=\"a-link-normal feed-carousel-control feed-left\" href=\"#\" tabindex=\"-1\"><span class=\"gw-icon feed-arrow\"></span></a>,\n",
       " <a aria-label=\"Carousel next slide\" class=\"a-link-normal feed-carousel-control feed-right\" href=\"#\" tabindex=\"-1\"><span class=\"gw-icon feed-arrow\"></span></a>,\n",
       " <a aria-labelledby=\"quicklook-product-image\" class=\"imgblock\" data-bind=\"href: url\"><img class=\"product-image\" data-bind=\"attr: image, attr: flingData\" id=\"quicklook-product-image\"/></a>,\n",
       " <a class=\"title\" data-bind=\"text: title, trimText: 63, href: url\"></a>,\n",
       " <a data-bind=\"href: reviews.url\">\n",
       " <i class=\"a-icon a-icon-star-medium\" data-bind=\"visible: reviews, css: reviews.auiStarClassMedium\">\n",
       " <span class=\"a-icon-alt\" data-bind=\"text: reviews.hoverText\"></span>\n",
       " </i>\n",
       " <span class=\"review-count a-color-tertiary\" data-bind=\"text: reviews.numberOfRatings\"></span>\n",
       " </a>,\n",
       " <a class=\"details-button a-button-text\" data-bind=\"href: url\" href=\"\" role=\"button\">See product details</a>,\n",
       " <a href=\"#nav-top\" id=\"navBackToTop\"><div class=\"navFooterBackToTop\"><span class=\"navFooterBackToTopText\">Back to top</span></div></a>,\n",
       " <a class=\"nav_a\" href=\"https://www.aboutamazon.in/?utm_source=gateway&amp;utm_medium=footer\">About Us</a>,\n",
       " <a class=\"nav_a\" href=\"https://amazon.jobs\">Careers</a>,\n",
       " <a class=\"nav_a\" href=\"/b?ie=UTF8&amp;node=1592137031&amp;ref_=footer_press\">Press Releases</a>,\n",
       " <a class=\"nav_a\" href=\"/b?ie=UTF8&amp;node=8872558031&amp;ref_=footer_cares\">Amazon Cares</a>,\n",
       " <a class=\"nav_a\" href=\"/Online-Charity/b?ie=UTF8&amp;node=4594605031&amp;ref_=footer_smile\">Gift a Smile</a>,\n",
       " <a class=\"nav_a\" href=\"http://www.amazon.in/gp/redirect.html/ref=footer_fb?location=http://www.facebook.com/AmazonIN&amp;token=2075D5EAC7BB214089728E2183FD391706D41E94&amp;6\">Facebook</a>,\n",
       " <a class=\"nav_a\" href=\"http://www.amazon.in/gp/redirect.html/ref=footer_twitter?location=http://twitter.com/AmazonIN&amp;token=A309DFBFCB1E37A808FF531934855DC817F130B6&amp;6\">Twitter</a>,\n",
       " <a class=\"nav_a\" href=\"http://www.amazon.in/gp/redirect.html?location=https://www.instagram.com/amazondotin&amp;token=264882C912E9D005CB1D9B61F12E125D5DF9BFC7&amp;source=standards\">Instagram</a>,\n",
       " <a class=\"nav_a\" href=\"/b/?_encoding=UTF8&amp;ld=AZINSOANavDesktopFooter&amp;node=2838698031&amp;ref_=nav_footer_sell\">Sell on Amazon</a>,\n",
       " <a class=\"nav_a\" href=\"https://accelerator.amazon.in/?ref_=map_1_b2b_GW_FT\">Sell under Amazon Accelerator</a>,\n",
       " <a class=\"nav_a\" href=\"/gp/redirect.html?_encoding=UTF8&amp;location=https%3A%2F%2Faffiliate-program.amazon.in%2F%3Fref_%3Dfooter_assoc%26utm_campaign%3Dassocshowcase%26utm_medium%3Dfooter%26utm_source%3DGW&amp;source=standards&amp;token=4D7ADB5A094B04230C576B761FB8EC3D657E2376\">Become an Affiliate</a>,\n",
       " <a class=\"nav_a\" href=\"http://services.amazon.in/services/fulfilment-by-amazon/benefits.html/ref=az_footer_fba?ld=AWRGINFBAfooter\">Fulfilment by Amazon</a>,\n",
       " <a class=\"nav_a\" href=\"https://advertising.amazon.in/?ref=Amz.in\">Advertise Your Products</a>,\n",
       " <a class=\"nav_a\" href=\"https://www.amazonpay.in/merchant\">Amazon Pay on Merchants</a>,\n",
       " <a class=\"nav_a\" href=\"/gp/css/homepage.html?ie=UTF8&amp;ref_=footer_ya\">Your Account</a>,\n",
       " <a class=\"nav_a\" href=\"/gp/css/returns/homepage.html?ie=UTF8&amp;ref_=footer_hy_f_4\">Returns Centre</a>,\n",
       " <a class=\"nav_a\" href=\"/gp/help/customer/display.html?ie=UTF8&amp;nodeId=201083470&amp;ref_=footer_swc\">100% Purchase Protection</a>,\n",
       " <a class=\"nav_a\" href=\"/b?ie=UTF8&amp;node=6967393031&amp;ref_=footer_mobapp\">Amazon App Download</a>,\n",
       " <a class=\"nav_a\" href=\"/gp/BIT/theamazonapp/ref=footer_assistant_download_copy\">Amazon Assistant Download</a>,\n",
       " <a class=\"nav_a\" href=\"/gp/help/customer/display.html?ie=UTF8&amp;nodeId=200507590&amp;ref_=footer_gw_m_b_he\">Help</a>,\n",
       " <a href=\"/ref=footer_logo\"><div class=\"nav-logo-base nav-sprite\"></div></a>,\n",
       " <a class=\"icp-button\" href=\"/gp/customer-preferences/select-language?ie=UTF8&amp;preferencesReturnUrl=%2F\" id=\"icp-touch-link-language\">\n",
       " <div class=\"icp-nav-globe-img-2 icp-button-globe-2\"></div><span class=\"icp-color-base\">English</span><span class=\"nav-arrow icp-up-down-arrow\"></span><span class=\"aok-hidden\" style=\"display:none\">Choose a language for shopping.</span>\n",
       " </a>,\n",
       " <a class=\"nav_a\" href=\"http://www.amazon.com.au/ref=footer_au\">Australia</a>,\n",
       " <a class=\"nav_a\" href=\"http://www.amazon.com.br/ref=footer_br\">Brazil</a>,\n",
       " <a class=\"nav_a\" href=\"http://www.amazon.ca/ref=footer_ca\">Canada</a>,\n",
       " <a class=\"nav_a\" href=\"http://www.amazon.cn/ref=footer_cn\">China</a>,\n",
       " <a class=\"nav_a\" href=\"http://www.amazon.fr/ref=footer_fr\">France</a>,\n",
       " <a class=\"nav_a\" href=\"http://www.amazon.de/ref=footer_de\">Germany</a>,\n",
       " <a class=\"nav_a\" href=\"http://www.amazon.it/ref=footer_it\">Italy</a>,\n",
       " <a class=\"nav_a\" href=\"http://www.amazon.co.jp/ref=footer_jp\">Japan</a>,\n",
       " <a class=\"nav_a\" href=\"http://www.amazon.com.mx/ref=footer_mx\">Mexico</a>,\n",
       " <a class=\"nav_a\" href=\"http://www.amazon.nl/ref=footer_nl\">Netherlands</a>,\n",
       " <a class=\"nav_a\" href=\"http://www.amazon.sg/ref=footer_sg\">Singapore</a>,\n",
       " <a class=\"nav_a\" href=\"http://www.amazon.es/ref=footer_es\">Spain</a>,\n",
       " <a class=\"nav_a\" href=\"http://www.amazon.ae/ref=footer_ae\">United Arab Emirates</a>,\n",
       " <a class=\"nav_a\" href=\"http://www.amazon.co.uk/ref=footer_uk\">United Kingdom</a>,\n",
       " <a class=\"nav_a\" href=\"http://www.amazon.com/ref=footer_us\">United States</a>,\n",
       " <a class=\"nav_a\" href=\"https://www.abebooks.com/\">AbeBooks<br/> <span class=\"navFooterDescText\">Books, art<br/> &amp; collectibles</span></a>,\n",
       " <a class=\"nav_a\" href=\"https://aws.amazon.com/what-is-cloud-computing/?sc_channel=EL&amp;sc_campaign=IN_amazonfooter\">Amazon Web Services<br/> <span class=\"navFooterDescText\">Scalable Cloud<br/> Computing Services</span></a>,\n",
       " <a class=\"nav_a\" href=\"https://www.audible.in/\">Audible<br/> <span class=\"navFooterDescText\">Download<br/> Audio Books</span></a>,\n",
       " <a class=\"nav_a\" href=\"https://www.dpreview.com/\">DPReview<br/> <span class=\"navFooterDescText\">Digital<br/> Photography</span></a>,\n",
       " <a class=\"nav_a\" href=\"https://www.imdb.com/\">IMDb<br/> <span class=\"navFooterDescText\">Movies, TV<br/> &amp; Celebrities</span></a>,\n",
       " <a class=\"nav_a\" href=\"https://www.shopbop.com/\">Shopbop<br/> <span class=\"navFooterDescText\">Designer<br/> Fashion Brands</span></a>,\n",
       " <a class=\"nav_a\" href=\"/business?ref=footer_aingw\">\t\n",
       " Amazon Business<br/> <span class=\"navFooterDescText\">Everything For<br/> Your Business</span></a>,\n",
       " <a class=\"nav_a\" href=\"/now?ref=footer_amznow\">Prime Now<br/> <span class=\"navFooterDescText\"> 2-Hour Delivery<br/> on Everyday Items</span></a>,\n",
       " <a class=\"nav_a\" href=\"/music/prime?ref=footer_apm\">Amazon Prime Music<br/> <span class=\"navFooterDescText\">Stream millions of songs,<br/> ad-free</span></a>,\n",
       " <a class=\"nav_a\" href=\"/gp/help/customer/display.html?ie=UTF8&amp;nodeId=200545940&amp;ref_=footer_cou\">Conditions of Use &amp; Sale</a>,\n",
       " <a class=\"nav_a\" href=\"/gp/help/customer/display.html?ie=UTF8&amp;nodeId=200534380&amp;ref_=footer_privacy\">Privacy Notice</a>,\n",
       " <a class=\"nav_a\" href=\"/b?ie=UTF8&amp;node=6691071031&amp;ref_=footer_iba\">Interest-Based Ads</a>]"
      ]
     },
     "execution_count": 19,
     "metadata": {},
     "output_type": "execute_result"
    }
   ],
   "source": [
    "hi"
   ]
  },
  {
   "cell_type": "code",
   "execution_count": 21,
   "metadata": {},
   "outputs": [
    {
     "data": {
      "text/plain": [
       "'Skip to main content'"
      ]
     },
     "execution_count": 21,
     "metadata": {},
     "output_type": "execute_result"
    }
   ],
   "source": [
    "hi[1].getText()\n"
   ]
  },
  {
   "cell_type": "code",
   "execution_count": 35,
   "metadata": {},
   "outputs": [],
   "source": [
    "article = soup.find('div')"
   ]
  },
  {
   "cell_type": "code",
   "execution_count": 37,
   "metadata": {},
   "outputs": [
    {
     "data": {
      "text/plain": [
       "<div class=\"a-container a-padding-double-large\" style=\"min-width:350px;padding:44px 0 !important\">\n",
       "<div class=\"a-row a-spacing-double-large\" style=\"width: 350px; margin: 0 auto\">\n",
       "<div class=\"a-row a-spacing-medium a-text-center\"><i class=\"a-icon a-logo\"></i></div>\n",
       "<div class=\"a-box a-alert a-alert-info a-spacing-base\">\n",
       "<div class=\"a-box-inner\">\n",
       "<i class=\"a-icon a-icon-alert\"></i>\n",
       "<h4>Enter the characters you see below</h4>\n",
       "<p class=\"a-last\">Sorry, we just need to make sure you're not a robot. For best results, please make sure your browser is accepting cookies.</p>\n",
       "</div>\n",
       "</div>\n",
       "<div class=\"a-section\">\n",
       "<div class=\"a-box a-color-offset-background\">\n",
       "<div class=\"a-box-inner a-padding-extra-large\">\n",
       "<form action=\"/errors/validateCaptcha\" method=\"get\" name=\"\">\n",
       "<input name=\"amzn\" type=\"hidden\" value=\"Okhy1odi0IrPtVkNAKnckg==\"/><input name=\"amzn-r\" type=\"hidden\" value=\"/s?k=elitmus&amp;hvadid=72224247005523&amp;hvbmt=bp&amp;hvdev=c&amp;hvqmt=p&amp;tag=msndeskstdin-21&amp;ref=pd_sl_5p6jsj3xvn_p\"/>\n",
       "<div class=\"a-row a-spacing-large\">\n",
       "<div class=\"a-box\">\n",
       "<div class=\"a-box-inner\">\n",
       "<h4>Type the characters you see in this image:</h4>\n",
       "<!-- For automated access to price change or offer listing change events,\n",
       "                                             please refer to the MWS Subscription API:\n",
       "                                             https://developer.amazonservices.in/gp/mws/api.html/276-5247872-0590350?ie=UTF8&section=subscriptions&group=subscriptions&version=latest\n",
       "                                        -->\n",
       "<div class=\"a-row a-text-center\">\n",
       "<img src=\"https://images-na.ssl-images-amazon.com/captcha/bysppkyq/Captcha_tlidlvrjzt.jpg\"/>\n",
       "</div>\n",
       "<div class=\"a-row a-spacing-base\">\n",
       "<div class=\"a-row\">\n",
       "<div class=\"a-column a-span6\">\n",
       "</div>\n",
       "<div class=\"a-column a-span6 a-span-last a-text-right\">\n",
       "<a onclick=\"window.location.reload()\">Try different image</a>\n",
       "</div>\n",
       "</div>\n",
       "<input autocapitalize=\"off\" autocomplete=\"off\" autocorrect=\"off\" class=\"a-span12\" id=\"captchacharacters\" name=\"field-keywords\" placeholder=\"Type characters\" spellcheck=\"false\" type=\"text\"/>\n",
       "</div>\n",
       "</div>\n",
       "</div>\n",
       "</div>\n",
       "<div class=\"a-section a-spacing-extra-large\">\n",
       "<div class=\"a-row\">\n",
       "<span class=\"a-button a-button-primary a-span12\">\n",
       "<span class=\"a-button-inner\">\n",
       "<button class=\"a-button-text\" type=\"submit\">Continue shopping</button>\n",
       "</span>\n",
       "</span>\n",
       "</div>\n",
       "</div>\n",
       "</form>\n",
       "</div>\n",
       "</div>\n",
       "</div>\n",
       "</div>\n",
       "<div class=\"a-divider a-divider-section\"><div class=\"a-divider-inner\"></div></div>\n",
       "<div class=\"a-text-center a-spacing-small a-size-mini\">\n",
       "<a href=\"https://www.amazon.in/gp/help/customer/display.html/ref=footer_cou?ie=UTF8&amp;nodeId=200545940\">Conditions of Use &amp; Sale</a>\n",
       "<span class=\"a-letter-space\"></span>\n",
       "<span class=\"a-letter-space\"></span>\n",
       "<span class=\"a-letter-space\"></span>\n",
       "<span class=\"a-letter-space\"></span>\n",
       "<a href=\"https://www.amazon.in/gp/help/customer/display.html/ref=footer_privacy?ie=UTF8&amp;nodeId=200534380\">Privacy Notice</a>\n",
       "</div>\n",
       "<div class=\"a-text-center a-size-mini a-color-secondary\">\n",
       "          © 1996-2015, Amazon.com, Inc. or its affiliates\n",
       "          <script>\n",
       "           if (true === true) {\n",
       "             document.write('<img src=\"https://fls-eu.amaz'+'on.in/'+'1/oc-csi/1/OP/requestId=DRJWJBXK205D9DEBRY9F&js=1\" />');\n",
       "           };\n",
       "          </script>\n",
       "<noscript>\n",
       "<img src=\"https://fls-eu.amazon.in/1/oc-csi/1/OP/requestId=DRJWJBXK205D9DEBRY9F&amp;js=0\"/>\n",
       "</noscript>\n",
       "</div>\n",
       "</div>"
      ]
     },
     "execution_count": 37,
     "metadata": {},
     "output_type": "execute_result"
    }
   ],
   "source": [
    "article"
   ]
  },
  {
   "cell_type": "code",
   "execution_count": 43,
   "metadata": {},
   "outputs": [],
   "source": [
    "summary = article.find('div',class_=\"a-row a-text-center\").img.text"
   ]
  },
  {
   "cell_type": "code",
   "execution_count": 44,
   "metadata": {},
   "outputs": [
    {
     "data": {
      "text/plain": [
       "''"
      ]
     },
     "execution_count": 44,
     "metadata": {},
     "output_type": "execute_result"
    }
   ],
   "source": [
    "summary"
   ]
  },
  {
   "cell_type": "code",
   "execution_count": null,
   "metadata": {},
   "outputs": [],
   "source": []
  }
 ],
 "metadata": {
  "kernelspec": {
   "display_name": "Python 3",
   "language": "python",
   "name": "python3"
  },
  "language_info": {
   "codemirror_mode": {
    "name": "ipython",
    "version": 3
   },
   "file_extension": ".py",
   "mimetype": "text/x-python",
   "name": "python",
   "nbconvert_exporter": "python",
   "pygments_lexer": "ipython3",
   "version": "3.7.4"
  }
 },
 "nbformat": 4,
 "nbformat_minor": 2
}
