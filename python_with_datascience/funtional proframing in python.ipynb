{
 "cells": [
  {
   "cell_type": "code",
   "execution_count": 7,
   "metadata": {},
   "outputs": [
    {
     "name": "stdout",
     "output_type": "stream",
     "text": [
      "ramanuj   loves   Ramayana\n"
     ]
    }
   ],
   "source": [
    "#keyword def  that marks the starting of the function header\n",
    "def greet(x,y): #x = ramanuj,y=Ramayana          parameterize method\n",
    "    print(x+\"   loves   \"+y)\n",
    "    \n",
    "greet(\"ramanuj\",\"Ramayana\")# from here we are calling the method\n",
    "\n",
    "\n",
    "\n"
   ]
  },
  {
   "cell_type": "code",
   "execution_count": 19,
   "metadata": {},
   "outputs": [
    {
     "name": "stdout",
     "output_type": "stream",
     "text": [
      "enter a number45\n",
      "the odd number is  45\n"
     ]
    }
   ],
   "source": [
    "def even_odd(x):#x=9\n",
    "    if x%2==0:# \n",
    "        print( \" the  even number is\",x)\n",
    "    else:\n",
    "        print(\"the odd number is \",x)\n",
    "\n",
    "x=int(input(\"enter a number\"))\n",
    "even_odd(x)        \n",
    "        \n",
    "        \n",
    "        \n",
    "        \n",
    "        "
   ]
  },
  {
   "cell_type": "code",
   "execution_count": 22,
   "metadata": {},
   "outputs": [
    {
     "name": "stdout",
     "output_type": "stream",
     "text": [
      "40320\n"
     ]
    }
   ],
   "source": [
    "#factorial of a number using function as well as recursion\n",
    "#when a method or function call itself  is called recursion\n",
    "\n",
    "def fac_using_recur(n):#n=5          #factorial of  1!=1\n",
    "    if n==1:\n",
    "        return n\n",
    "    else:\n",
    "        return n* fac_using_recur(n-1)#5*fac_using_recur(4)\n",
    "    \n",
    "    #5*4*fac_using_recur(3)  2nd step\n",
    "    #5*4*3*fac_using_recur(2) 3rd\n",
    "    #5*4*3*2*1\n",
    "    \n",
    "q=fac_using_recur(8)\n",
    "print(q)\n",
    "\n"
   ]
  },
  {
   "cell_type": "code",
   "execution_count": 25,
   "metadata": {},
   "outputs": [
    {
     "name": "stdout",
     "output_type": "stream",
     "text": [
      "7  is prime number \n"
     ]
    }
   ],
   "source": [
    "#find out a number is prime or not using function\n",
    "# the number which is only divisible by 1 and itself  (2  to 4  wE can divide 5) ( 2 to 9 we can divide 10)\n",
    "\n",
    "def chek_prime(n):#n=133\n",
    "    if n>1:\n",
    "        for i in range(2,n):# for loop is loopin between 2 to 132\n",
    "            if(n%i)==0:\n",
    "                print(n,\"  is not prime number\")\n",
    "                break # exit control from the function\n",
    "        else:\n",
    "            print(n,\" is prime number \")\n",
    "                \n",
    "                \n",
    "                \n",
    "chek_prime(7)                \n",
    "\n"
   ]
  },
  {
   "cell_type": "code",
   "execution_count": 26,
   "metadata": {},
   "outputs": [
    {
     "name": "stdout",
     "output_type": "stream",
     "text": [
      "even list [2, 4, 6, 34, 56, 20, 40]\n",
      "odd list [1, 45, 23, 77, 89]\n"
     ]
    }
   ],
   "source": [
    "#l=[1,2,4,6,45,23,34,56,77,89,20,40] split the given list into two different even and odd list\n",
    "#even_l=[2,,4,6,34,20,40,56]\n",
    "#odd_l=[1,45,23 ,77,89 ]\n",
    "\n",
    "\n",
    "def chk_even_odd(l):\n",
    "    even_l=[]#empty list\n",
    "    odd_l=[]\n",
    "    \n",
    "    for i in l:#list is iterable\n",
    "        if(i%2)==0:\n",
    "            even_l.append(i)\n",
    "        else:\n",
    "            odd_l.append(i)\n",
    "    print(\"even list\",even_l)\n",
    "    print(\"odd list\",odd_l)\n",
    "    \n",
    "l=[1,2,4,6,45,23,34,56,77,89,20,40]    \n",
    "chk_even_odd(l)    \n",
    "    "
   ]
  },
  {
   "cell_type": "code",
   "execution_count": null,
   "metadata": {},
   "outputs": [],
   "source": [
    "#l=[1,34,4,5]sinto plit the given list \n",
    "#prime=[]\n",
    "#not_prime=[]"
   ]
  }
 ],
 "metadata": {
  "kernelspec": {
   "display_name": "Python 3",
   "language": "python",
   "name": "python3"
  },
  "language_info": {
   "codemirror_mode": {
    "name": "ipython",
    "version": 3
   },
   "file_extension": ".py",
   "mimetype": "text/x-python",
   "name": "python",
   "nbconvert_exporter": "python",
   "pygments_lexer": "ipython3",
   "version": "3.7.4"
  }
 },
 "nbformat": 4,
 "nbformat_minor": 2
}
