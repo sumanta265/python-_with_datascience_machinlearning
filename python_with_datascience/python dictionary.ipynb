{
 "cells": [
  {
   "cell_type": "code",
   "execution_count": 2,
   "metadata": {},
   "outputs": [
    {
     "name": "stdout",
     "output_type": "stream",
     "text": [
      "maji\n"
     ]
    }
   ],
   "source": [
    "#empty dictionary\n",
    "\n",
    "my_dict = {}\n",
    "\n",
    "\n",
    "#dictionary with integer keys\n",
    "\n",
    "my_dict1={\"a\":\"apple\",2:\"ball\",3:\"orange\",4:\"banana\",\"sumanta\":\"maji\"}\n",
    "print(my_dict1[\"sumanta\"])\n",
    "\n"
   ]
  },
  {
   "cell_type": "code",
   "execution_count": null,
   "metadata": {},
   "outputs": [],
   "source": []
  },
  {
   "cell_type": "code",
   "execution_count": 5,
   "metadata": {},
   "outputs": [
    {
     "name": "stdout",
     "output_type": "stream",
     "text": [
      "[70, 80, 60]\n"
     ]
    }
   ],
   "source": [
    "#dictionary with mixed keys\n",
    "my_d={\"name\":\"sumanta\",\"score\":[70,80,60]}#list can also be declare inside a dictionary when ever requre\n",
    "print(my_d[\"score\"])\n",
    "\n",
    "\n",
    "\n",
    "\n",
    "\n"
   ]
  },
  {
   "cell_type": "code",
   "execution_count": 6,
   "metadata": {},
   "outputs": [
    {
     "name": "stdout",
     "output_type": "stream",
     "text": [
      "{'name': 'sumanta', 'age': 30}\n"
     ]
    }
   ],
   "source": [
    "#how to change or add elements in a dictionary\n",
    "my_dict={'name':'sumanta','age':25}\n",
    "my_dict['age']=30\n",
    "print(my_dict)\n",
    "\n",
    "\n",
    "\n",
    "\n",
    "\n",
    "\n",
    "\n",
    "\n"
   ]
  },
  {
   "cell_type": "code",
   "execution_count": 7,
   "metadata": {},
   "outputs": [
    {
     "name": "stdout",
     "output_type": "stream",
     "text": [
      "{'name': 'sumanta', 'age': 30, 'Address': 'city center'}\n"
     ]
    }
   ],
   "source": [
    "#how to change or add elements in a dictionary\n",
    "my_dict={'name':'sumanta','age':25,\"Address\":\"city center\"}#updateing data inside a dictionary by using its key element\n",
    "my_dict['age']=30\n",
    "print(my_dict)"
   ]
  },
  {
   "cell_type": "code",
   "execution_count": 8,
   "metadata": {},
   "outputs": [
    {
     "name": "stdout",
     "output_type": "stream",
     "text": [
      "{'name': 'sumanta', 'age': 30, 'Address': 'Durgapur'}\n"
     ]
    }
   ],
   "source": [
    "my_dict[\"Address\"]=\"Durgapur\"\n",
    "print(my_dict)"
   ]
  },
  {
   "cell_type": "code",
   "execution_count": 9,
   "metadata": {},
   "outputs": [
    {
     "name": "stdout",
     "output_type": "stream",
     "text": [
      "name:::::   sumanta\n",
      "age:::::   30\n",
      "Address:::::   Durgapur\n"
     ]
    }
   ],
   "source": [
    "#loop over a dictionary lets say for loop\n",
    "for x in my_dict:\n",
    "    print(\"{}:::::   {}\".format(x,my_dict[x]))# this is the way of formatting in python\n",
    "\n"
   ]
  },
  {
   "cell_type": "code",
   "execution_count": 10,
   "metadata": {},
   "outputs": [
    {
     "name": "stdout",
     "output_type": "stream",
     "text": [
      "sumanta\n",
      "30\n",
      "Durgapur\n"
     ]
    }
   ],
   "source": [
    "for x in my_dict.values():# if i am asked to only print the value element inside a dictianary then\n",
    "    print(x)# looping through only values inside dictionary ,we must have to use values() method"
   ]
  },
  {
   "cell_type": "code",
   "execution_count": 11,
   "metadata": {},
   "outputs": [
    {
     "name": "stdout",
     "output_type": "stream",
     "text": [
      "name sumanta\n",
      "age 30\n",
      "Address Durgapur\n"
     ]
    }
   ],
   "source": [
    "#loop through both the key amd values ,by using the items() function\n",
    "\n",
    "for x,y in my_dict.items():\n",
    "    print(x,y)\n",
    "\n",
    "#{'name': 'sumanta', 'age': 30, 'Address': 'Durgapur'}\n",
    "\n",
    "\n",
    "#lets say in 1st iteration x=name and y= sumanta\n",
    "# 2nd iteration x=age and y=30\n",
    "#3rd iteartin x= adress and y=durgapur \n",
    "\n"
   ]
  },
  {
   "cell_type": "code",
   "execution_count": 12,
   "metadata": {},
   "outputs": [
    {
     "name": "stdout",
     "output_type": "stream",
     "text": [
      "{'name': 'sumanta', 'age': 30, 'Address': 'Durgapur'}\n"
     ]
    }
   ],
   "source": [
    "print(my_dict)"
   ]
  },
  {
   "cell_type": "code",
   "execution_count": 14,
   "metadata": {},
   "outputs": [],
   "source": [
    "del my_dict['age']#by using the del key we are deleting an element inside dictionary"
   ]
  },
  {
   "cell_type": "code",
   "execution_count": 15,
   "metadata": {},
   "outputs": [
    {
     "name": "stdout",
     "output_type": "stream",
     "text": [
      "{'name': 'sumanta', 'Address': 'Durgapur'}\n"
     ]
    }
   ],
   "source": [
    "print(my_dict)"
   ]
  },
  {
   "cell_type": "code",
   "execution_count": 16,
   "metadata": {},
   "outputs": [
    {
     "name": "stdout",
     "output_type": "stream",
     "text": [
      "{'sumanta': 9900345678, 'sanjukta': 49820740827, 'saheli': 7842987, 'shruti': 39264327, 'poulami': 20837487, 'anuska': 28949387, 'ramanuj': 2874636423, 'akash': 924762736}\n"
     ]
    }
   ],
   "source": [
    "student={'sumanta':9900345678,\n",
    "         'sanjukta':49820740827,'saheli':7842987,'shruti':39264327,'poulami':20837487,'anuska':28949387,'ramanuj':2874636423,'akash':924762736}\n",
    "\n",
    "\n",
    "print(student)\n"
   ]
  },
  {
   "cell_type": "code",
   "execution_count": 18,
   "metadata": {},
   "outputs": [
    {
     "data": {
      "text/plain": [
       "['akash',\n",
       " 'anuska',\n",
       " 'poulami',\n",
       " 'ramanuj',\n",
       " 'saheli',\n",
       " 'sanjukta',\n",
       " 'shruti',\n",
       " 'sumanta']"
      ]
     },
     "execution_count": 18,
     "metadata": {},
     "output_type": "execute_result"
    }
   ],
   "source": [
    "sorted(student)#to display the key element of a dictionary in a shorted order\n"
   ]
  },
  {
   "cell_type": "code",
   "execution_count": 22,
   "metadata": {},
   "outputs": [
    {
     "data": {
      "text/plain": [
       "True"
      ]
     },
     "execution_count": 22,
     "metadata": {},
     "output_type": "execute_result"
    }
   ],
   "source": [
    "'rama' not in student"
   ]
  },
  {
   "cell_type": "code",
   "execution_count": 23,
   "metadata": {},
   "outputs": [
    {
     "data": {
      "text/plain": [
       "['sumanta',\n",
       " 'sanjukta',\n",
       " 'saheli',\n",
       " 'shruti',\n",
       " 'poulami',\n",
       " 'anuska',\n",
       " 'ramanuj',\n",
       " 'akash']"
      ]
     },
     "execution_count": 23,
     "metadata": {},
     "output_type": "execute_result"
    }
   ],
   "source": [
    "list(student)# here i am passing my dictionary inside a built in method called list()"
   ]
  },
  {
   "cell_type": "code",
   "execution_count": null,
   "metadata": {},
   "outputs": [],
   "source": [
    "#another way of creating dictionary is by using built in method called dict()"
   ]
  },
  {
   "cell_type": "code",
   "execution_count": 24,
   "metadata": {},
   "outputs": [
    {
     "name": "stdout",
     "output_type": "stream",
     "text": [
      "{'sumanta': 6329269, 'saheli': 63486548, 'poulomi': 26487674}\n"
     ]
    }
   ],
   "source": [
    "stud = dict([('sumanta',6329269),('saheli',63486548),('poulomi',26487674)])\n",
    "\n",
    "print(stud)"
   ]
  },
  {
   "cell_type": "code",
   "execution_count": 25,
   "metadata": {},
   "outputs": [
    {
     "data": {
      "text/plain": [
       "{2: 4, 3: 9, 4: 16, 5: 25, 6: 36, 7: 49, 8: 64, 9: 81}"
      ]
     },
     "execution_count": 25,
     "metadata": {},
     "output_type": "execute_result"
    }
   ],
   "source": [
    "#dictionary using arbitary key and value expression\n",
    "\n",
    "{x:x**2 for x in range(2,10)}#1st iteration x=2  {2:4}\n",
    "                             #2nd iteration x=3  {2:4,3:9}\n",
    "                             #3rd iteration x=4 {2:4,3:9,4:16}\n",
    "\n"
   ]
  },
  {
   "cell_type": "code",
   "execution_count": 26,
   "metadata": {},
   "outputs": [],
   "source": [
    "stud.clear()"
   ]
  },
  {
   "cell_type": "code",
   "execution_count": 27,
   "metadata": {},
   "outputs": [
    {
     "name": "stdout",
     "output_type": "stream",
     "text": [
      "{}\n"
     ]
    }
   ],
   "source": [
    "print(stud)"
   ]
  },
  {
   "cell_type": "code",
   "execution_count": 29,
   "metadata": {},
   "outputs": [
    {
     "name": "stdout",
     "output_type": "stream",
     "text": [
      "{'Father': {'name': 'ram', 'age': 60, 'ph_no': 9485093489}, 'Mother': {'name': 'sita', 'age': 55, 'ph_no': 695384765}, 'child1': {'name': 'lob', 'age': 20, 'ph_no': 264876384}, 'child2': {'name': 'kush', 'age': 20, 'ph_no': 691317673}}\n"
     ]
    }
   ],
   "source": [
    "#dictionary inside a dictionary\n",
    "myfamily={\n",
    "    \n",
    "    'Father':{'name':'ram','age':60,'ph_no':9485093489},\n",
    "    'Mother':{'name':'sita','age':55,'ph_no':695384765},\n",
    "    'child1':{'name':'lob','age':20,'ph_no':264876384},\n",
    "    'child2':{'name':'kush','age':20,'ph_no':691317673}\n",
    "}\n",
    "\n",
    "\n",
    "print(myfamily)\n",
    "\n",
    "\n",
    "\n",
    "\n",
    "\n",
    "\n",
    "\n",
    "\n",
    "\n"
   ]
  },
  {
   "cell_type": "code",
   "execution_count": 30,
   "metadata": {},
   "outputs": [
    {
     "data": {
      "text/plain": [
       "'sita'"
      ]
     },
     "execution_count": 30,
     "metadata": {},
     "output_type": "execute_result"
    }
   ],
   "source": [
    "myfamily['Mother']['name']#find out mother name"
   ]
  },
  {
   "cell_type": "code",
   "execution_count": 31,
   "metadata": {},
   "outputs": [],
   "source": [
    "myfamily['child2']['age']=25"
   ]
  },
  {
   "cell_type": "code",
   "execution_count": 32,
   "metadata": {},
   "outputs": [
    {
     "name": "stdout",
     "output_type": "stream",
     "text": [
      "{'Father': {'name': 'ram', 'age': 60, 'ph_no': 9485093489}, 'Mother': {'name': 'sita', 'age': 55, 'ph_no': 695384765}, 'child1': {'name': 'lob', 'age': 20, 'ph_no': 264876384}, 'child2': {'name': 'kush', 'age': 25, 'ph_no': 691317673}}\n"
     ]
    }
   ],
   "source": [
    "print(myfamily)"
   ]
  },
  {
   "cell_type": "code",
   "execution_count": 38,
   "metadata": {},
   "outputs": [
    {
     "data": {
      "text/plain": [
       "60"
      ]
     },
     "execution_count": 38,
     "metadata": {},
     "output_type": "execute_result"
    }
   ],
   "source": [
    "#pop() method to remove element of a specified key\n",
    "\n",
    "myfamily['Father'].pop()\n",
    "\n",
    "\n"
   ]
  },
  {
   "cell_type": "code",
   "execution_count": 39,
   "metadata": {},
   "outputs": [
    {
     "name": "stdout",
     "output_type": "stream",
     "text": [
      "{'Father': {'name': 'ram', 'ph_no': 9485093489}, 'Mother': {'name': 'sita', 'age': 55}, 'child1': {'name': 'lob', 'age': 20, 'ph_no': 264876384}, 'child2': {'name': 'kush', 'age': 25, 'ph_no': 691317673}}\n"
     ]
    }
   ],
   "source": [
    "print(myfamily)"
   ]
  },
  {
   "cell_type": "code",
   "execution_count": null,
   "metadata": {},
   "outputs": [],
   "source": []
  }
 ],
 "metadata": {
  "kernelspec": {
   "display_name": "Python 3",
   "language": "python",
   "name": "python3"
  },
  "language_info": {
   "codemirror_mode": {
    "name": "ipython",
    "version": 3
   },
   "file_extension": ".py",
   "mimetype": "text/x-python",
   "name": "python",
   "nbconvert_exporter": "python",
   "pygments_lexer": "ipython3",
   "version": "3.7.4"
  }
 },
 "nbformat": 4,
 "nbformat_minor": 2
}
