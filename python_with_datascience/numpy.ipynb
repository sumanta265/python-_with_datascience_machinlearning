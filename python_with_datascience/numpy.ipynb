{
 "cells": [
  {
   "cell_type": "code",
   "execution_count": 1,
   "metadata": {},
   "outputs": [
    {
     "data": {
      "text/plain": [
       "'1.16.5'"
      ]
     },
     "execution_count": 1,
     "metadata": {},
     "output_type": "execute_result"
    }
   ],
   "source": [
    "import numpy as np\n",
    "np.__version__"
   ]
  },
  {
   "cell_type": "code",
   "execution_count": 46,
   "metadata": {},
   "outputs": [
    {
     "name": "stdout",
     "output_type": "stream",
     "text": [
      "[[[ 1  2  3  4  5]\n",
      "  [ 9  8  7  6  0]]\n",
      "\n",
      " [[34 54  5  6  9]\n",
      "  [21 34  5 34  5]]]\n",
      "3\n",
      "6\n"
     ]
    }
   ],
   "source": [
    "arr=np.array(     [ [   [1,2,3,4,5],[9,8,7,6,0]  ]     ,     [  [34,54,5,6,9],[21,34,5,34,5]   ]  ]   )# 2d array\n",
    "print(arr)\n",
    "print(arr.ndim)#number of dimantion\n",
    "print(arr[0,1,3])"
   ]
  },
  {
   "cell_type": "code",
   "execution_count": 22,
   "metadata": {},
   "outputs": [
    {
     "name": "stdout",
     "output_type": "stream",
     "text": [
      "[[1 2 3 4 5]\n",
      " [9 8 7 6 0]]\n",
      "11\n"
     ]
    }
   ],
   "source": [
    "a=np.array([[1,2,3,4,5],[9,8,7,6,0]])\n",
    "print(a) \n",
    "print(a[0,4]+a[1,3])# acessing arra"
   ]
  },
  {
   "cell_type": "code",
   "execution_count": null,
   "metadata": {},
   "outputs": [],
   "source": []
  }
 ],
 "metadata": {
  "kernelspec": {
   "display_name": "Python 3",
   "language": "python",
   "name": "python3"
  },
  "language_info": {
   "codemirror_mode": {
    "name": "ipython",
    "version": 3
   },
   "file_extension": ".py",
   "mimetype": "text/x-python",
   "name": "python",
   "nbconvert_exporter": "python",
   "pygments_lexer": "ipython3",
   "version": "3.7.4"
  }
 },
 "nbformat": 4,
 "nbformat_minor": 2
}
