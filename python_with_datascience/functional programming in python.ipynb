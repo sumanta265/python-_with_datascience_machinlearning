{
 "cells": [
  {
   "cell_type": "code",
   "execution_count": 5,
   "metadata": {},
   "outputs": [
    {
     "name": "stdout",
     "output_type": "stream",
     "text": [
      "1634 is an Armstrong number\n"
     ]
    }
   ],
   "source": [
    "def isArmstrong(x):#x=1634\n",
    "    o=len(str(x))#o=4\n",
    "    sum1 = 0\n",
    "    temp=x    #temp=1634\n",
    "    while temp>0:\n",
    "        d=temp%10#d=4,d=3,d=6,d=1\n",
    "        sum1+=d**o#sum1=sum1+d**o   sum1=0+4**4 ,sum1=256, sum1=256+3**4, sum1=256+81=?   \n",
    "        temp//=10#temp=temp//10 temp=0\n",
    "    if x==sum1:\n",
    "        print(x,\"is an Armstrong number\")\n",
    "    else:\n",
    "        print(x,\"is not armstrong number\")\n",
    "    \n",
    "    \n",
    "    \n",
    "isArmstrong(1634)"
   ]
  },
  {
   "cell_type": "code",
   "execution_count": 3,
   "metadata": {},
   "outputs": [
    {
     "name": "stdout",
     "output_type": "stream",
     "text": [
      "4\n"
     ]
    }
   ],
   "source": []
  },
  {
   "cell_type": "code",
   "execution_count": 9,
   "metadata": {},
   "outputs": [
    {
     "name": "stdout",
     "output_type": "stream",
     "text": [
      "hello\n",
      "welcome\n",
      "to \n",
      "india\n",
      "sumanta\n",
      "ram\n",
      "modi\n"
     ]
    }
   ],
   "source": [
    "def myFun(x,y,w,n,j,k,b):\n",
    "        \n",
    "    print(x)\n",
    "    print(y)\n",
    "    print(w)\n",
    "    print(n)\n",
    "    print(j)\n",
    "    print(k)\n",
    "    print(b)\n",
    "    \n",
    "myFun('hello','welcome','to ','india','sumanta','ram','modi')       "
   ]
  },
  {
   "cell_type": "code",
   "execution_count": 12,
   "metadata": {},
   "outputs": [
    {
     "name": "stdout",
     "output_type": "stream",
     "text": [
      "hello\n",
      "welcome\n",
      "to \n",
      "india\n",
      "sumanta\n",
      "ram\n",
      "modi\n",
      "trumpgkkjhk\n"
     ]
    }
   ],
   "source": [
    "def myFun(*argv):# q able to hold any number of value\n",
    "    for a in argv:\n",
    "        print(a)\n",
    "\n",
    "myFun('hello','welcome','to ','india','sumanta','ram','modi','trump','gkkjhk') "
   ]
  },
  {
   "cell_type": "code",
   "execution_count": 14,
   "metadata": {},
   "outputs": [
    {
     "name": "stdout",
     "output_type": "stream",
     "text": [
      "a=hello\n",
      "b=welcome\n",
      "c=to \n",
      "d=india\n"
     ]
    }
   ],
   "source": [
    "def myFun(**kwargs):# q able to hold any number of value  keywordsargument\n",
    "    for a,b in kwargs.items():\n",
    "        print(a,end=\"=\")\n",
    "        print(b)\n",
    "\n",
    "myFun(a='hello',b='welcome',c='to ',d='india') #we are sending  keyword as well as value"
   ]
  },
  {
   "cell_type": "code",
   "execution_count": null,
   "metadata": {},
   "outputs": [],
   "source": []
  }
 ],
 "metadata": {
  "kernelspec": {
   "display_name": "Python 3",
   "language": "python",
   "name": "python3"
  },
  "language_info": {
   "codemirror_mode": {
    "name": "ipython",
    "version": 3
   },
   "file_extension": ".py",
   "mimetype": "text/x-python",
   "name": "python",
   "nbconvert_exporter": "python",
   "pygments_lexer": "ipython3",
   "version": "3.7.4"
  }
 },
 "nbformat": 4,
 "nbformat_minor": 2
}
