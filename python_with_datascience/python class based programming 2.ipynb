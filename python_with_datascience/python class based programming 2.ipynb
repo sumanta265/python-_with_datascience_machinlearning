{
 "cells": [
  {
   "cell_type": "code",
   "execution_count": 5,
   "metadata": {},
   "outputs": [
    {
     "name": "stdout",
     "output_type": "stream",
     "text": [
      "Enter namesumanta\n",
      "Enter salary23000\n",
      "Enter nameakash\n",
      "Enter salary430000\n",
      "Enter namesalman\n",
      "Enter salary45900\n",
      "Enter nameram\n",
      "Enter salary34000\n",
      "Enter namebijay\n",
      "Enter salary780000\n",
      "the total employee is 5\n",
      "Name :  bijay  salary: 780000\n",
      "Name :  bijay  salary: 780000\n",
      "Name :  bijay  salary: 780000\n",
      "Name :  bijay  salary: 780000\n",
      "Name :  bijay  salary: 780000\n"
     ]
    }
   ],
   "source": [
    "class Employee:\n",
    "    empCount=0\n",
    "    def __init__(self,name,salary):\n",
    "        self.name=name\n",
    "        self.salary=salary\n",
    "        Employee.empCount +=1\n",
    "        \n",
    "    def displayCount(self):\n",
    "        print(\"the total employee is\",Employee.empCount)\n",
    "        \n",
    "    def displayEmployee(self):\n",
    "        print(\"Name : \",self.name, \" salary:\",self.salary)\n",
    "        \n",
    "        \n",
    "        \n",
    "for i in range(0,5):\n",
    "    name=input(\"Enter name\")\n",
    "    salary=int(input(\"Enter salary\"))\n",
    "    e=Employee(name,salary)\n",
    "    \n",
    "e.displayCount()\n",
    "for i in range(0,5):\n",
    "    e.displayEmployee()"
   ]
  },
  {
   "cell_type": "code",
   "execution_count": null,
   "metadata": {},
   "outputs": [],
   "source": []
  }
 ],
 "metadata": {
  "kernelspec": {
   "display_name": "Python 3",
   "language": "python",
   "name": "python3"
  },
  "language_info": {
   "codemirror_mode": {
    "name": "ipython",
    "version": 3
   },
   "file_extension": ".py",
   "mimetype": "text/x-python",
   "name": "python",
   "nbconvert_exporter": "python",
   "pygments_lexer": "ipython3",
   "version": "3.7.4"
  }
 },
 "nbformat": 4,
 "nbformat_minor": 2
}
