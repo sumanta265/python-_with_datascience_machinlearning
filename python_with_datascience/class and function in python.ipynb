{
 "cells": [
  {
   "cell_type": "code",
   "execution_count": 44,
   "metadata": {},
   "outputs": [
    {
     "name": "stdout",
     "output_type": "stream",
     "text": [
      "50\n",
      "hello corona hiii how are you doing in durgapur\n"
     ]
    }
   ],
   "source": [
    "class demo:\n",
    "    def __init__(se,x,y):\n",
    "        se.x=x\n",
    "        se.y=y\n",
    "    def add(s):\n",
    "        return s.x+s.y\n",
    "    def show(self):\n",
    "        return \"hello corona hiii how are you doing in durgapur\"\n",
    "    \n",
    "    \n",
    "    \n",
    "    \n",
    "d =demo(20,30)#thisk is object creation in python      #demo d=new demo(); java\n",
    "print(d.add())\n",
    "print(d.show())\n"
   ]
  },
  {
   "cell_type": "code",
   "execution_count": 11,
   "metadata": {},
   "outputs": [
    {
     "data": {
      "text/plain": [
       "10"
      ]
     },
     "execution_count": 11,
     "metadata": {},
     "output_type": "execute_result"
    }
   ],
   "source": [
    "def add(x,y):\n",
    "    return x+y\n",
    "\n",
    "\n",
    "\n",
    "add(4,6)"
   ]
  },
  {
   "cell_type": "code",
   "execution_count": 29,
   "metadata": {},
   "outputs": [
    {
     "name": "stdout",
     "output_type": "stream",
     "text": [
      "maji\n",
      "sumanta maji\n"
     ]
    }
   ],
   "source": [
    "class leap:#to declear an empty class we should declear pass inside the class\n",
    "    pass \n",
    "    \n",
    "    \n",
    "l=leap()\n",
    "l.fname=\"sumanta\"\n",
    "l.lname=\"maji\"\n",
    "\n",
    "\n",
    "\n",
    "print(l.lname)\n",
    "\n",
    "\n",
    "print(l.fname+\" \"+l.lname)"
   ]
  },
  {
   "cell_type": "code",
   "execution_count": 36,
   "metadata": {},
   "outputs": [
    {
     "name": "stdout",
     "output_type": "stream",
     "text": [
      "sumanta1234maji@gmail.com\n",
      "nabanita1234sarkar@gmail.com\n",
      "sanchita1234maji@gmail.com\n"
     ]
    }
   ],
   "source": [
    "class leap:\n",
    "    def __init__(self,fname,lname,pay):#__init__ is a constractor\n",
    "        self.f_name=fname\n",
    "        self.l_name=lname\n",
    "        self.pay=pay\n",
    "        self.fullname=fname+ \" \"+lname\n",
    "    def make_email(self):\n",
    "        return self.f_name+\"1234\"+self.l_name+\"@gmail.com\"\n",
    "        \n",
    "    \n",
    "    \n",
    "    \n",
    "    \n",
    "    \n",
    "    \n",
    "lp=leap(\"sumanta\",'maji',2000)#whenevre we craete object it autimatically calls the constructor\n",
    "print(lp.make_email())\n",
    "\n",
    "    \n",
    "    \n",
    "lp1=leap(\"nabanita\",\"sarkar\",3000)\n",
    "print(lp1.make_email())\n",
    "\n",
    "\n",
    "lp2=leap(\"sanchita\",\"maji\",9000)\n",
    "print(lp2.make_email())\n",
    "    \n",
    "    \n",
    "    \n",
    "    \n",
    "    \n",
    "    \n",
    "    \n",
    "    \n",
    "        \n",
    "    "
   ]
  },
  {
   "cell_type": "code",
   "execution_count": null,
   "metadata": {},
   "outputs": [],
   "source": []
  }
 ],
 "metadata": {
  "kernelspec": {
   "display_name": "Python 3",
   "language": "python",
   "name": "python3"
  },
  "language_info": {
   "codemirror_mode": {
    "name": "ipython",
    "version": 3
   },
   "file_extension": ".py",
   "mimetype": "text/x-python",
   "name": "python",
   "nbconvert_exporter": "python",
   "pygments_lexer": "ipython3",
   "version": "3.7.4"
  }
 },
 "nbformat": 4,
 "nbformat_minor": 2
}
