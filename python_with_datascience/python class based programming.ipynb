{
 "cells": [
  {
   "cell_type": "code",
   "execution_count": 16,
   "metadata": {},
   "outputs": [
    {
     "name": "stdout",
     "output_type": "stream",
     "text": [
      "tomy\n",
      "['roll over', 'play dead']\n",
      "['dump down']\n"
     ]
    }
   ],
   "source": [
    "class DOG:\n",
    "    \n",
    "    \n",
    "    def __init__(self,name):#when ever we define object __init__() is the first method  which automatically invoke\n",
    "        self.name = name\n",
    "        self.tricks=[]\n",
    "        \n",
    "    def add_trick(self,trick):\n",
    "        self.tricks.append(trick)\n",
    "        \n",
    "        \n",
    "d1=DOG('tomy')\n",
    "d2=DOG(\"dull\")\n",
    "d1.add_trick('roll over')\n",
    "d1.add_trick('play dead')\n",
    "\n",
    "\n",
    "\n",
    "d2.add_trick('dump down')\n",
    "print(d1.name)\n",
    "print(d1.tricks)\n",
    "print(d2.tricks)\n",
    "\n",
    "    "
   ]
  },
  {
   "cell_type": "code",
   "execution_count": 13,
   "metadata": {},
   "outputs": [
    {
     "name": "stdout",
     "output_type": "stream",
     "text": [
      "my name is  sumanta age is 25\n",
      "my name is  sumanta age is 25\n"
     ]
    }
   ],
   "source": [
    "class person:\n",
    "    def __init__(self,name,age):\n",
    "        self.name=name\n",
    "        self.age=age\n",
    "    def show(self):\n",
    "        print(\"my name is  \"+self.name+\" age is\",self.age)\n",
    "        \n",
    "p1=person(\"sumanta\",25)\n",
    "p2=person(\"ram\",20)\n",
    "\n",
    "\n",
    "person.show(p1)\n",
    "p1.show()\n",
    "\n",
    "\n",
    "\n",
    "\n",
    "\n"
   ]
  },
  {
   "cell_type": "raw",
   "metadata": {},
   "source": [
    "\n",
    "\n",
    "    "
   ]
  },
  {
   "cell_type": "code",
   "execution_count": null,
   "metadata": {},
   "outputs": [],
   "source": [
    "class Employee:\n",
    "    empCount=0\n",
    "    def __init__(self,name,salary):\n",
    "        self.name=name\n",
    "        self.salary=salary\n",
    "        Employee.empCount +=1\n",
    "        \n",
    "    def displayCount(self):\n",
    "        print(\"the total employee is\",Employee.empCount)\n",
    "        \n",
    "    def displayEmployee(self):\n",
    "        print(\"Name : \",self.name, \" salary:\",self.salary)\n",
    "        \n",
    "        \n",
    "        \n",
    "for i in range(0,5):\n",
    "    name=input(\"Enter name\")\n",
    "    salary=int(input(\"Enter salary\"))\n",
    "    e1=Employee(name,salary)\n",
    "    e1.displayEmployee()\n",
    "    e1.displayCount()\n"
   ]
  },
  {
   "cell_type": "code",
   "execution_count": null,
   "metadata": {},
   "outputs": [],
   "source": [
    "class Employee:\n",
    "    empCount=0\n",
    "    def __init__(self,name,salary):\n",
    "        self.name=name\n",
    "        self.salary=salary\n",
    "        Employee.empCount +=1\n",
    "        \n",
    "    def displayCount(self):\n",
    "        print(\"the total employee is\",Employee.empCount)\n",
    "        \n",
    "    def displayEmployee(self):\n",
    "        print(\"Name : \",self.name, \" salary:\",self.salary)\n",
    "        \n",
    "        \n",
    "        \n",
    "for i in range(0,5):\n",
    "    name=input(\"Enter name\")\n",
    "    salary=int(input(\"Enter salary\"))\n",
    "    i=Employee()"
   ]
  },
  {
   "cell_type": "code",
   "execution_count": 6,
   "metadata": {},
   "outputs": [
    {
     "name": "stdout",
     "output_type": "stream",
     "text": [
      "sumanta\n",
      "maji\n"
     ]
    }
   ],
   "source": [
    "class log_xyz():\n",
    "    pass\n",
    "\n",
    "\n",
    "c=log_xyz()\n",
    "\n",
    "c.fname=\"sumanta\"#instance veriable\n",
    "c.lname=\"maji\"#instance variable\n",
    "\n",
    "\n",
    "\n",
    "print(c.fname)\n",
    "print(c.lname)"
   ]
  },
  {
   "cell_type": "code",
   "execution_count": null,
   "metadata": {},
   "outputs": [],
   "source": []
  }
 ],
 "metadata": {
  "kernelspec": {
   "display_name": "Python 3",
   "language": "python",
   "name": "python3"
  },
  "language_info": {
   "codemirror_mode": {
    "name": "ipython",
    "version": 3
   },
   "file_extension": ".py",
   "mimetype": "text/x-python",
   "name": "python",
   "nbconvert_exporter": "python",
   "pygments_lexer": "ipython3",
   "version": "3.7.4"
  }
 },
 "nbformat": 4,
 "nbformat_minor": 2
}
