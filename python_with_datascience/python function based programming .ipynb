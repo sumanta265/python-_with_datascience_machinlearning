{
 "cells": [
  {
   "cell_type": "code",
   "execution_count": 3,
   "metadata": {},
   "outputs": [
    {
     "name": "stdout",
     "output_type": "stream",
     "text": [
      "apple\n",
      "banana\n",
      "cherry\n",
      "goava\n"
     ]
    }
   ],
   "source": [
    "def my_function(food):# we are sending  list as an argument to the function\n",
    "    for x in food:\n",
    "        print(x)\n",
    "\n",
    "\n",
    "\n",
    "\n",
    "fruits =[\"apple\",\"banana\",\"cherry\",\"goava\"]\n",
    "my_function(fruits)\n",
    "\n"
   ]
  },
  {
   "cell_type": "code",
   "execution_count": 5,
   "metadata": {},
   "outputs": [],
   "source": [
    "#pass key word\n",
    "\n",
    "def my_f():\n",
    "    pass # it means having a empty function definition "
   ]
  },
  {
   "cell_type": "code",
   "execution_count": 6,
   "metadata": {},
   "outputs": [
    {
     "data": {
      "text/plain": [
       "600"
      ]
     },
     "execution_count": 6,
     "metadata": {},
     "output_type": "execute_result"
    }
   ],
   "source": [
    "def my_fd(a,b):\n",
    "    return a*b\n",
    "\n",
    "my_fd(20,30)"
   ]
  },
  {
   "cell_type": "code",
   "execution_count": 7,
   "metadata": {},
   "outputs": [
    {
     "name": "stdout",
     "output_type": "stream",
     "text": [
      "sumant\n"
     ]
    }
   ],
   "source": [
    "#nested function or inner function\n",
    "def outer(t):\n",
    "    t=t\n",
    "    def inner():\n",
    "        print(t)\n",
    "    inner()\n",
    "        \n",
    "        \n",
    "        \n",
    "        \n",
    "outer(\"sumant\")        \n",
    "        \n",
    "        \n",
    "        \n",
    "        \n",
    "        \n",
    "        \n",
    "        \n"
   ]
  },
  {
   "cell_type": "code",
   "execution_count": null,
   "metadata": {},
   "outputs": [],
   "source": [
    "def fact(x):\n",
    "    \n",
    "    if x==1:\n",
    "        return 1\n",
    "    else:\n",
    "        return(x*fact(x-1))#5*4*3*2*1\n",
    "    \n",
    "x=int(input('enter a number'))  \n",
    "print(fact(x))\n"
   ]
  },
  {
   "cell_type": "code",
   "execution_count": null,
   "metadata": {},
   "outputs": [],
   "source": [
    "def fact(x):\n",
    "    \n",
    "    if x==1:\n",
    "        return 1\n",
    "    else:\n",
    "        return(x*fact(x-1))#5*4*3*2*1\n",
    "    \n",
    "x=int(input('enter a number'))  \n",
    "print(fact(x))"
   ]
  },
  {
   "cell_type": "code",
   "execution_count": null,
   "metadata": {},
   "outputs": [],
   "source": []
  }
 ],
 "metadata": {
  "kernelspec": {
   "display_name": "Python 3",
   "language": "python",
   "name": "python3"
  },
  "language_info": {
   "codemirror_mode": {
    "name": "ipython",
    "version": 3
   },
   "file_extension": ".py",
   "mimetype": "text/x-python",
   "name": "python",
   "nbconvert_exporter": "python",
   "pygments_lexer": "ipython3",
   "version": "3.7.4"
  }
 },
 "nbformat": 4,
 "nbformat_minor": 2
}
